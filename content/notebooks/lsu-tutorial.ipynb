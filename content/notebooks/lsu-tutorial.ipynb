{
 "cells": [
  {
   "cell_type": "markdown",
   "metadata": {},
   "source": [
    "### Run Every Time\n",
    "A lot of detailed configuration needs to be\n",
    "set if we're to use Agave to run on a remote\n",
    "machine."
   ]
  },
  {
   "cell_type": "code",
   "execution_count": 1,
   "metadata": {
    "collapsed": true
   },
   "outputs": [],
   "source": [
    "export MACHINE=rostam.cct.lsu.edu\n",
    "export AGAVE_USERNAME=stevenrbrandt\n",
    "export MACHINE_USERNAME=sbrandt\n",
    "export APP_NAME=drawgau\n",
    "export PORT=8000\n",
    "export WORK_DIR=/home/sbrandt\n",
    "export HOME_DIR=/home/sbrandt\n",
    "export SCRATCH_DIR=/home/sbrandt\n",
    "export EMAIL=sbrandt@cct.lsu.edu\n",
    "export DEPLOYMENT_PATH=agave-deployment"
   ]
  },
  {
   "cell_type": "code",
   "execution_count": 2,
   "metadata": {},
   "outputs": [
    {
     "name": "stdout",
     "output_type": "stream",
     "text": [
      "Configuring for machine rostam (full name is rostam.cct.lsu.edu) on network 'cct.lsu.edu'\n"
     ]
    }
   ],
   "source": [
    "# The short version of the machine name\n",
    "export MACH=$(echo $MACHINE|perl -p -e 's/\\..*//')\n",
    "export NETWORK=$(echo $MACHINE|perl -p -e 's/.*?\\.//')\n",
    "echo \"Configuring for machine $MACH (full name is $MACHINE) on network '${NETWORK}'\""
   ]
  },
  {
   "cell_type": "code",
   "execution_count": 3,
   "metadata": {
    "collapsed": true
   },
   "outputs": [],
   "source": [
    "export PATH=$HOME/agave/cli/bin:$PATH"
   ]
  },
  {
   "cell_type": "code",
   "execution_count": 4,
   "metadata": {
    "collapsed": true
   },
   "outputs": [],
   "source": [
    "mkdir -p $HOME/agave\n",
    "cd $HOME/agave\n",
    "export AGAVE_JSON_PARSER=jq"
   ]
  },
  {
   "cell_type": "markdown",
   "metadata": {},
   "source": [
    "## The next few cells only needs to be  run the first time\n",
    "\n",
    "Before you run them, create a password for yourself and copy it into the paste buffer.\n",
    "\n",
    "Here's a nice password generator: https://www.cct.lsu.edu/~sbrandt/passwds.php"
   ]
  },
  {
   "cell_type": "code",
   "execution_count": 5,
   "metadata": {},
   "outputs": [
    {
     "name": "stdout",
     "output_type": "stream",
     "text": [
      "fatal: destination path 'cli' already exists and is not an empty directory.\n"
     ]
    },
    {
     "ename": "",
     "evalue": "128",
     "output_type": "error",
     "traceback": []
    }
   ],
   "source": [
    "git clone https://bitbucket.org/agaveapi/cli.git"
   ]
  },
  {
   "cell_type": "code",
   "execution_count": 8,
   "metadata": {
    "collapsed": true,
    "scrolled": true
   },
   "outputs": [],
   "source": [
    "# Store the password in the environment variable without displaying it.\n",
    "export PASSWORD=$(xclip -selection clilpboard -o)"
   ]
  },
  {
   "cell_type": "code",
   "execution_count": 9,
   "metadata": {
    "scrolled": false
   },
   "outputs": [
    {
     "name": "stdout",
     "output_type": "stream",
     "text": [
      "\u001b[1;0mYou are now configured to interact with the APIs at https://public.agaveplatform.org/\u001b[0m\n"
     ]
    }
   ],
   "source": [
    "tenants-init -t agave.prod"
   ]
  },
  {
   "cell_type": "code",
   "execution_count": 10,
   "metadata": {},
   "outputs": [
    {
     "name": "stdout",
     "output_type": "stream",
     "text": [
      "\u001b[1;0mSuccessfully deleted client drawgau-rostam\u001b[0m\n"
     ]
    }
   ],
   "source": [
    "# You don't need to delete the client you haven't created yet. Attempting\n",
    "# to do so won't actually do anything. However, it's useful to know how to it.\n",
    "clients-delete -u stevenrbrandt -p $PASSWORD ${APP_NAME}-${MACH}"
   ]
  },
  {
   "cell_type": "code",
   "execution_count": 11,
   "metadata": {},
   "outputs": [
    {
     "name": "stdout",
     "output_type": "stream",
     "text": [
      "\u001b[1;0m\u001b[1;0mSuccessfully created client drawgau-rostam\n",
      "key: UlHANpgpt44bG7Qx6g1Tslm5lBEa \n",
      "secret: tKW64mhF3TCJvTlhJc7Mk0l7ffsa\u001b[0m\u001b[0m\n"
     ]
    }
   ],
   "source": [
    "clients-create -S -N ${APP_NAME}-${MACH} -u ${AGAVE_USERNAME} -p \"${PASSWORD}\""
   ]
  },
  {
   "cell_type": "code",
   "execution_count": 12,
   "metadata": {},
   "outputs": [
    {
     "name": "stdout",
     "output_type": "stream",
     "text": [
      "\u001b[1;0mToken for agave.prod:stevenrbrandt successfully refreshed and cached for 14400 seconds\n",
      "3056cd4b393fa0437ab7d97a37ed7da\u001b[0m\n"
     ]
    }
   ],
   "source": [
    "auth-tokens-create -u ${AGAVE_USERNAME} -p \"${PASSWORD}\""
   ]
  },
  {
   "cell_type": "markdown",
   "metadata": {},
   "source": [
    "If you already have an Agave account and have previously logged in, you can just refresh your tokens"
   ]
  },
  {
   "cell_type": "code",
   "execution_count": 13,
   "metadata": {},
   "outputs": [
    {
     "name": "stdout",
     "output_type": "stream",
     "text": [
      "ssh-rsa AAAAB3NzaC1yc2EAAAADAQABAAABAQC5ran1lIYppauEXL2pSWvBvZCgHGBsvSkioCgJ4fAbxTbIEEOqo6AiCPHCXczch9aswZ4oCI+gVJTCaYrYlyw3Uv1nSy7C8dYo6+IqhP+d4Rmzeo/s//nFMVT8L2+0PEMboFO8XNPT5FaoeIR+JrGcDR7U1feFaaI4pnLEt3/fsWjcHGTyxLbwnsdG9eVFqrnJY8QsESohiN27z5c6XZ3r3fk3zjihUhk+4vWXlGLW4jsyo9HB2lAGL/KOBbOAwa3hhiZZ2W8ZlZC0Mw34dE3WbEHD0iEAgUfMZLy93+UKvSmSJP8hJ+EvVfWm2Yj/Y8qsDUs+7Y//dUnPW5p7kSnh\n"
     ]
    }
   ],
   "source": [
    "# The public key appears below. You need to append the public\n",
    "# key to the end of your ~/.ssh/authorized_keys file on ${MACHINE}.\n",
    "ssh-keygen -y -f ${MACH}-key -P \"\" < /dev/null"
   ]
  },
  {
   "cell_type": "code",
   "execution_count": 18,
   "metadata": {},
   "outputs": [],
   "source": [
    "cat ~/agave/${MACH}-key.pub | \\\n",
    "  sshpass -f ~/pw.txt ssh -p ${PORT} ${MACHINE_USERNAME}@${MACHINE} sh -c \"cat - >> ~/.ssh/authorized_keys\""
   ]
  },
  {
   "cell_type": "code",
   "execution_count": 19,
   "metadata": {},
   "outputs": [
    {
     "name": "stdout",
     "output_type": "stream",
     "text": [
      "Attempting to login to sbrandt@rostam.cct.lsu.edu on port 8000\n",
      "Key is installed\n"
     ]
    }
   ],
   "source": [
    "echo Attempting to login to ${MACHINE_USERNAME}@${MACHINE} on port ${PORT}\n",
    "ssh -o \"StrictHostKeyChecking=yes\" -o \"BatchMode=yes\" -o \"IdentityFile=${MACH}-key.pub\" ${MACHINE_USERNAME}@${MACHINE} -p ${PORT} \\\n",
    "  grep \"$(cat ${MACH}-key.pub|cut -d' ' -f2)\" .ssh/authorized_keys > /dev/null\n",
    "if [ \"$?\" = 0 ]; then echo Key is installed ; else echo Key not installed; fi"
   ]
  },
  {
   "cell_type": "code",
   "execution_count": 21,
   "metadata": {
    "collapsed": true
   },
   "outputs": [],
   "source": [
    "jsonpki --public ${MACH}-key.pub > ${MACH}-key.pub.txt\n",
    "jsonpki --private ${MACH}-key > ${MACH}-key.txt"
   ]
  },
  {
   "cell_type": "markdown",
   "metadata": {},
   "source": [
    "## Run Every Time"
   ]
  },
  {
   "cell_type": "code",
   "execution_count": 22,
   "metadata": {},
   "outputs": [
    {
     "name": "stdout",
     "output_type": "stream",
     "text": [
      "\u001b[1;0mToken for agave.prod:stevenrbrandt successfully refreshed and cached for 14400 seconds\n",
      "5d5b335e71a292750a153a815f4ed6e\u001b[0m\n"
     ]
    }
   ],
   "source": [
    "auth-tokens-refresh"
   ]
  },
  {
   "cell_type": "code",
   "execution_count": 23,
   "metadata": {
    "collapsed": true
   },
   "outputs": [],
   "source": [
    "PUB_KEY=$(cat ${MACH}-key.pub.txt)\n",
    "PRIV_KEY=$(cat ${MACH}-key.txt)"
   ]
  },
  {
   "cell_type": "markdown",
   "metadata": {},
   "source": [
    "### Configure the Storage Machine"
   ]
  },
  {
   "cell_type": "code",
   "execution_count": 24,
   "metadata": {
    "collapsed": true
   },
   "outputs": [],
   "source": [
    "cat > ${MACH}-storage-${MACHINE_USERNAME}.txt << EOF\n",
    "{\n",
    "    \"id\": \"${MACH}-storage-${MACHINE_USERNAME}\",\n",
    "    \"name\": \"${MACH} storage (${MACHINE_USERNAME})\",\n",
    "    \"description\": \"The ${MACH} computer\",\n",
    "    \"site\": \"${NETWORK}\",\n",
    "    \"type\": \"STORAGE\",\n",
    "    \"storage\": {\n",
    "        \"host\": \"${MACHINE}\",\n",
    "        \"port\": ${PORT},\n",
    "        \"protocol\": \"SFTP\",\n",
    "        \"rootDir\": \"/\",\n",
    "        \"homeDir\": \"/home/${MACHINE_USERNAME}\",\n",
    "        \"auth\": {\n",
    "          \"username\" : \"${MACHINE_USERNAME}\",\n",
    "          \"publicKey\" : \"${PUB_KEY}\",\n",
    "          \"privateKey\" : \"${PRIV_KEY}\",\n",
    "          \"type\" : \"SSHKEYS\"\n",
    "        }\n",
    "    }\n",
    "}\n",
    "EOF"
   ]
  },
  {
   "cell_type": "code",
   "execution_count": 25,
   "metadata": {},
   "outputs": [
    {
     "name": "stdout",
     "output_type": "stream",
     "text": [
      "\u001b[1;0m\u001b[1;0mSuccessfully added system rostam-storage-sbrandt\u001b[0m\u001b[0m\n"
     ]
    }
   ],
   "source": [
    "systems-addupdate -F ${MACH}-storage-${MACHINE_USERNAME}.txt"
   ]
  },
  {
   "cell_type": "code",
   "execution_count": 26,
   "metadata": {},
   "outputs": [
    {
     "name": "stdout",
     "output_type": "stream",
     "text": [
      ".\n",
      ".bash_history\n",
      ".bashrc\n",
      ".cache\n",
      ".cling_history\n"
     ]
    }
   ],
   "source": [
    "# Test to see if this worked...\n",
    "files-list -S ${MACH}-storage-${MACHINE_USERNAME} ./ | head -5"
   ]
  },
  {
   "cell_type": "markdown",
   "metadata": {},
   "source": [
    "### Configure the Execution Machine"
   ]
  },
  {
   "cell_type": "code",
   "execution_count": 27,
   "metadata": {},
   "outputs": [
    {
     "name": "stdout",
     "output_type": "stream",
     "text": [
      "PARTITION AVAIL  TIMELIMIT  NODES  STATE NODELIST\n",
      "rostam*      up 3-00:00:00      1  down* beowulf04\n",
      "rostam*      up 3-00:00:00     15  alloc beowulf[00-03,05-14],marvin08\n",
      "rostam*      up 3-00:00:00     28   idle ariel[00-01],bahram,carson,leo[00-02],lyra[00-01],marvin[00-07,09-15],reno,trillian[00-01],tycho\n",
      "cuda         up 3-00:00:00      3   idle bahram,reno,tycho\n",
      "sc13         up 3-00:00:00      2   idle carson,reno\n",
      "phi          up 3-00:00:00      2   idle carson,reno\n",
      "leo          up 3-00:00:00      3   idle leo[00-02]\n",
      "ariel        up 3-00:00:00      2   idle ariel[00-01]\n",
      "beowulf      up 3-00:00:00      1  down* beowulf04\n",
      "beowulf      up 3-00:00:00     14  alloc beowulf[00-03,05-14]\n",
      "lyra         up 3-00:00:00      2   idle lyra[00-01]\n",
      "trillian     up 3-00:00:00      2   idle trillian[00-01]\n",
      "tycho        up 3-00:00:00      1   idle tycho\n",
      "bahram       up 3-00:00:00      1   idle bahram\n",
      "carson       up 3-00:00:00      1   idle carson\n",
      "reno         up 3-00:00:00      1   idle reno\n",
      "marvin       up 3-00:00:00     14   idle marvin[00-07,10-15]\n",
      "marv_ht      up 3-00:00:00      8   idle marvin[00-07]\n",
      "marv_noht    up 3-00:00:00      6   idle marvin[10-15]\n",
      "storm        up 3-00:00:00      1  alloc marvin08\n",
      "storm        up 3-00:00:00      1   idle marvin09\n",
      "intel        up 3-00:00:00      3   idle bahram,carson,reno\n"
     ]
    }
   ],
   "source": [
    "# Assuming ${MACHINE} uses slurm as a queuing system, this will get info about the queues\n",
    "ssh ${MACHINE_USERNAME}@${MACHINE} -p ${PORT} sinfo "
   ]
  },
  {
   "cell_type": "code",
   "execution_count": 28,
   "metadata": {},
   "outputs": [
    {
     "name": "stdout",
     "output_type": "stream",
     "text": [
      "Procs: 16\n"
     ]
    }
   ],
   "source": [
    "# Gather info about the machine\n",
    "# Executing this cell is essential\n",
    "export QUEUE=rostam # Name of default queue\n",
    "export NODES=17 # Number of nodes in queue\n",
    "export MAX_TIME=24:00:00 # Max duration of a job\n",
    "PROCS=$(ssh ${MACHINE_USERNAME}@${MACHINE} -p ${PORT} grep '^processor' /proc/cpuinfo|cut -d: -f2|tail -1)\n",
    "PROCS=$(($PROCS+1))\n",
    "echo Procs: ${PROCS}"
   ]
  },
  {
   "cell_type": "code",
   "execution_count": 29,
   "metadata": {
    "collapsed": true
   },
   "outputs": [],
   "source": [
    "# Edit any parts of this file that you know need to be changed for your machine.\n",
    "cat > ${MACH}-exec-${MACHINE_USERNAME}.txt << EOF\n",
    "{\n",
    "    \"id\": \"${MACH}-exec-${MACHINE_USERNAME}\",\n",
    "    \"name\": \"${MACH} (${MACHINE_USERNAME})\",\n",
    "    \"description\": \"The ${MACH} computer\",\n",
    "    \"site\": \"${NETWORK}\",\n",
    "    \"public\": false,\n",
    "    \"status\": \"UP\",\n",
    "    \"type\": \"EXECUTION\",\n",
    "    \"executionType\": \"HPC\",\n",
    "    \"scheduler\" : \"SLURM\",\n",
    "    \"environment\": null,\n",
    "    \"scratchDir\" : \"${SCRATCH_DIR}\",\n",
    "    \"queues\": [\n",
    "        {\n",
    "            \"name\": \"${QUEUE}\",\n",
    "            \"default\": true,\n",
    "            \"maxJobs\": 1,\n",
    "            \"maxUserJobs\": 1,\n",
    "            \"maxNodes\": ${NODES},\n",
    "            \"maxProcessorsPerNode\": ${PROCS},\n",
    "            \"minProcessorsPerNode\": 1,\n",
    "            \"maxRequestedTime\": \"${MAX_TIME}\"\n",
    "        }\n",
    "    ],\n",
    "    \"login\": {\n",
    "        \"auth\": {\n",
    "          \"username\" : \"sbrandt\",\n",
    "          \"publicKey\" : \"${PUB_KEY}\",\n",
    "          \"privateKey\" : \"${PRIV_KEY}\",\n",
    "          \"type\" : \"SSHKEYS\"\n",
    "        },\n",
    "        \"host\": \"${MACHINE}\",\n",
    "        \"port\": ${PORT},\n",
    "        \"protocol\": \"SSH\"\n",
    "    },\n",
    "    \"maxSystemJobs\": 50,\n",
    "    \"maxSystemJobsPerUser\": 50,\n",
    "    \"storage\": {\n",
    "        \"host\": \"rostam.cct.lsu.edu\",\n",
    "        \"port\": ${PORT},\n",
    "        \"protocol\": \"SFTP\",\n",
    "        \"rootDir\": \"/\",\n",
    "        \"homeDir\": \"${HOME_DIR}\",\n",
    "        \"auth\": {\n",
    "          \"username\" : \"${MACHINE_USERNAME}\",\n",
    "          \"publicKey\" : \"${PUB_KEY}\",\n",
    "          \"privateKey\" : \"${PRIV_KEY}\",\n",
    "          \"type\" : \"SSHKEYS\"\n",
    "        }\n",
    "    },\n",
    "    \"workDir\": \"${WORK_DIR}\"\n",
    "}\n",
    "EOF"
   ]
  },
  {
   "cell_type": "code",
   "execution_count": 30,
   "metadata": {},
   "outputs": [
    {
     "name": "stdout",
     "output_type": "stream",
     "text": [
      "\u001b[1;0m\u001b[1;0mSuccessfully added system rostam-exec-sbrandt\u001b[0m\u001b[0m\n"
     ]
    }
   ],
   "source": [
    "systems-addupdate -F ${MACH}-exec-${MACHINE_USERNAME}.txt"
   ]
  },
  {
   "cell_type": "code",
   "execution_count": 31,
   "metadata": {},
   "outputs": [
    {
     "name": "stdout",
     "output_type": "stream",
     "text": [
      ".\n",
      ".bash_history\n",
      ".bashrc\n",
      ".cache\n",
      ".cling_history\n"
     ]
    }
   ],
   "source": [
    "# Test to see if this worked...\n",
    "files-list -S ${MACH}-exec-${MACHINE_USERNAME} ./ | head -5"
   ]
  },
  {
   "cell_type": "markdown",
   "metadata": {},
   "source": [
    "### Configure the Application\n",
    "This will have a number of steps and pieces.\n",
    "First we are creating the wrapper script. This\n",
    "is the thing that will be submitted to the\n",
    "resource scheduler on the remote machine.\n",
    "Typically, it is a bash script."
   ]
  },
  {
   "cell_type": "code",
   "execution_count": 32,
   "metadata": {
    "collapsed": true
   },
   "outputs": [],
   "source": [
    "cat > drawgau-wrapper.txt << EOF \n",
    "#!/bin/bash\n",
    "echo 'Executing Draw Gau Code'\n",
    "# Setting the x flag will echo every\n",
    "# command onto stderr. This is\n",
    "# for debugging, so we can see what's\n",
    "# going on.\n",
    "set -x\n",
    "echo ==ENV=============\n",
    "# The env command prints out the\n",
    "# entire execution environment. This\n",
    "# is also present for debugging purposes.\n",
    "env\n",
    "echo ==PWD=============\n",
    "# We also print out the execution\n",
    "# directory. Again, for debugging purposes.\n",
    "pwd\n",
    "module add openmpi/1.10.4\n",
    "if [ \"\\${parfile}\" = \"\" ]\n",
    "then\n",
    "  echo parfile was not set\n",
    "else\n",
    "  mpirun ~/drawgau/drawgau \\${parfile}\n",
    "fi\n",
    "EOF"
   ]
  },
  {
   "cell_type": "code",
   "execution_count": 33,
   "metadata": {},
   "outputs": [
    {
     "name": "stdout",
     "output_type": "stream",
     "text": [
      "\u001b[1;0mSuccessfully created folder agave-deployment\u001b[0m\n",
      "Uploading drawgau-wrapper.txt...\n",
      "######################################################################## 100.0%\n"
     ]
    }
   ],
   "source": [
    "files-mkdir -S ${MACH}-storage-${MACHINE_USERNAME} -N ${DEPLOYMENT_PATH}\n",
    "files-upload -F drawgau-wrapper.txt -S ${MACH}-storage-${MACHINE_USERNAME} ${DEPLOYMENT_PATH}/"
   ]
  },
  {
   "cell_type": "markdown",
   "metadata": {},
   "source": [
    "#### The test file\n",
    "Next we create and configure a test script. It simply names the wrapper and suggested parfile."
   ]
  },
  {
   "cell_type": "code",
   "execution_count": 132,
   "metadata": {
    "collapsed": true
   },
   "outputs": [],
   "source": [
    "cat > test.txt << EOF\n",
    "parfile=\"input.txt\"\n",
    "drawgau-wrapper.txt\n",
    "EOF"
   ]
  },
  {
   "cell_type": "code",
   "execution_count": 30,
   "metadata": {},
   "outputs": [
    {
     "name": "stdout",
     "output_type": "stream",
     "text": [
      "\u001b[1;0mSuccessfully created folder agave-deployment\u001b[0m\n",
      "Uploading test.txt...\n",
      "######################################################################## 100.0%\n"
     ]
    }
   ],
   "source": [
    "files-mkdir -S ${MACH}-storage-${MACHINE_USERNAME} -N ${DEPLOYMENT_PATH}\n",
    "files-upload -F test.txt -S ${MACH}-storage-${MACHINE_USERNAME} ${DEPLOYMENT_PATH}/"
   ]
  },
  {
   "cell_type": "markdown",
   "metadata": {},
   "source": [
    "#### The Application Description\n",
    "This tells Agave what it needs to know\n",
    "about the application in order to run it."
   ]
  },
  {
   "cell_type": "code",
   "execution_count": 28,
   "metadata": {
    "collapsed": true
   },
   "outputs": [],
   "source": [
    "cat > drawgau-app.txt << EOF\n",
    "{  \n",
    "   \"name\":\"drawgau-${MACH}\",\n",
    "   \"version\":\"1.0\",\n",
    "   \"label\":\"Draw Gaussian Curve\",\n",
    "   \"shortDescription\":\"Just draws a Gaussian\",\n",
    "   \"longDescription\":\"\",\n",
    "   \"deploymentSystem\":\"${MACH}-storage-${MACHINE_USERNAME}\",\n",
    "   \"deploymentPath\":\"${DEPLOYMENT_PATH}\",\n",
    "   \"templatePath\":\"drawgau-wrapper.txt\",\n",
    "   \"testPath\":\"test.txt\",\n",
    "   \"executionSystem\":\"${MACH}-exec-${MACHINE_USERNAME}\",\n",
    "   \"executionType\":\"HPC\",\n",
    "   \"parallelism\":\"SERIAL\",\n",
    "   \"modules\":[],\n",
    "   \"inputs\":[\n",
    "         {   \n",
    "         \"id\":\"parfile\",\n",
    "         \"details\":{  \n",
    "            \"label\":\"Draw Gau Parameter File: \",\n",
    "            \"description\":\"\",\n",
    "            \"argument\":null,\n",
    "            \"showArgument\":false\n",
    "         },\n",
    "         \"value\":{  \n",
    "            \"default\":\"testInput.txt\",\n",
    "            \"order\":0,\n",
    "            \"required\":true,\n",
    "            \"validator\":\"\",\n",
    "            \"visible\":true\n",
    "         }\n",
    "      }   \n",
    "\n",
    "   ],\n",
    "   \"parameters\":[],\n",
    "   \"outputs\":[  \n",
    "      {  \n",
    "         \"id\":\"Output\",\n",
    "         \"details\":{  \n",
    "            \"description\":\"The output\",\n",
    "            \"label\":\"x y file\"\n",
    "         },\n",
    "         \"value\":{  \n",
    "            \"default\":\"drawgau.txt\",\n",
    "            \"validator\":\"\"\n",
    "         }\n",
    "      }\n",
    "   ]\n",
    "}\n",
    "EOF"
   ]
  },
  {
   "cell_type": "code",
   "execution_count": 29,
   "metadata": {},
   "outputs": [
    {
     "name": "stdout",
     "output_type": "stream",
     "text": [
      "\u001b[1;0m\u001b[1;0mSuccessfully added app drawgau-rostam-1.0\u001b[0m\u001b[0m\n"
     ]
    }
   ],
   "source": [
    "apps-addupdate -F drawgau-app.txt"
   ]
  },
  {
   "cell_type": "markdown",
   "metadata": {},
   "source": [
    "#### The Application Itself\n",
    "Typically, your application will be some Fortran or C/C++ executable that you compile and run on the remote machine.\n",
    "The example for this tutorial is drawgau, a C++ program that uses MPI and does nothing but draw a Guassian curve\n",
    "(i.e. it writes out a file with x-y pairs that matplot lib can use to display a Gaussian)."
   ]
  },
  {
   "cell_type": "code",
   "execution_count": 72,
   "metadata": {
    "collapsed": true
   },
   "outputs": [],
   "source": [
    "cat > drawgau.cpp << EOF\n",
    "#include <mpi.h>\n",
    "#include <iostream>\n",
    "#include <fstream>\n",
    "#include <sstream>\n",
    "#include <math.h>\n",
    "#include <stdlib.h>\n",
    "\n",
    "using namespace std;\n",
    "\n",
    "void usage() {\n",
    "  std::cerr << \"usage: drawgau input.txt\" << std::endl;\n",
    "  exit(1);\n",
    "}\n",
    "\n",
    "int main(int argc, char **argv) {\n",
    "  if(argc != 2)\n",
    "    usage();\n",
    "  ifstream i(argv[1]);\n",
    "\n",
    "  if(!i.good())\n",
    "    usage();\n",
    "\n",
    "  MPI_Init(&argc,&argv);\n",
    "  int rank,size;\n",
    "  MPI_Comm_rank(MPI_COMM_WORLD,&rank);\n",
    "  MPI_Comm_size(MPI_COMM_WORLD,&size);\n",
    "\n",
    "  double minx, maxx, delx;\n",
    "  i >> minx >> maxx >> delx;\n",
    "  if(rank == 0) {\n",
    "    cout << \"minx=\" << minx << endl;\n",
    "    cout << \"maxx=\" << maxx << endl;\n",
    "    cout << \"delx=\" << delx << endl;\n",
    "    cout << \"mpi size=\" << size << endl;\n",
    "  }\n",
    "\n",
    "  stringstream s;\n",
    "  s << \"drawgau\" << rank << \".txt\";\n",
    "  string fname = s.str();\n",
    "  cout << \"FILE: \" << fname << endl;\n",
    "  ofstream f(fname,ofstream::out);\n",
    "  double delxp = (maxx - minx)/size;\n",
    "  double minxp = minx+delxp*rank;\n",
    "  double maxxp = minxp + delxp;\n",
    "  cout << \"rank=\" << rank << \" minxp=\" << minxp << \" maxxp=\" << maxxp << endl;\n",
    "  for(double x = minxp; x < maxxp; x += delx) {\n",
    "    f << x << \" \" << exp(-x*x) << endl;\n",
    "  }\n",
    "  f.close();\n",
    "  MPI_Finalize();\n",
    "  return 0;\n",
    "}\n",
    "EOF"
   ]
  },
  {
   "cell_type": "markdown",
   "metadata": {},
   "source": [
    "#### A Script to Build the Application"
   ]
  },
  {
   "cell_type": "code",
   "execution_count": 86,
   "metadata": {
    "collapsed": true
   },
   "outputs": [],
   "source": [
    "cat > build.sh << EOF\n",
    "#!/bin/bash\n",
    "module add openmpi/1.10.4\n",
    "cd ~/drawgau\n",
    "mpicxx -std=c++11 -o drawgau drawgau.cpp\n",
    "EOF"
   ]
  },
  {
   "cell_type": "markdown",
   "metadata": {},
   "source": [
    "#### A sample input parameter file"
   ]
  },
  {
   "cell_type": "code",
   "execution_count": 89,
   "metadata": {
    "collapsed": true
   },
   "outputs": [],
   "source": [
    "# The parameter file just has three numbers\n",
    "# low-x-value high-x-value delta-x-value\n",
    "echo -1 1 .01 > input.txt"
   ]
  },
  {
   "cell_type": "code",
   "execution_count": 90,
   "metadata": {
    "scrolled": true
   },
   "outputs": [
    {
     "name": "stdout",
     "output_type": "stream",
     "text": [
      "\u001b[1;0mSuccessfully created folder drawgau\u001b[0m\n",
      "Uploading drawgau.cpp...\n",
      "######################################################################## 100.0%\n",
      "Uploading build.sh...\n",
      "######################################################################## 100.0%\n",
      "Uploading input.txt...\n",
      "######################################################################## 100.0%\n"
     ]
    }
   ],
   "source": [
    "files-mkdir -S ${MACH}-storage-${MACHINE_USERNAME} -N drawgau\n",
    "files-upload -F drawgau.cpp -S ${MACH}-storage-${MACHINE_USERNAME} drawgau/\n",
    "files-upload -F build.sh -S ${MACH}-storage-${MACHINE_USERNAME} drawgau/\n",
    "files-upload -F input.txt -S ${MACH}-storage-${MACHINE_USERNAME} drawgau/\n",
    "ssh ${MACHINE_USERNAME}@${MACHINE} -p ${PORT} bash --login ./drawgau/build.sh"
   ]
  },
  {
   "cell_type": "markdown",
   "metadata": {},
   "source": [
    "### Running Jobs\n",
    "We'll do this two ways. First, the command line.\n",
    "To start, we must make a json descriptor for the job we want to run."
   ]
  },
  {
   "cell_type": "code",
   "execution_count": 31,
   "metadata": {
    "collapsed": true
   },
   "outputs": [],
   "source": [
    "cat > job.txt << EOF\n",
    "{\n",
    "  \"name\":\"test-jobc-1\",\n",
    "  \"appId\": \"drawgau-${MACH}-1.0\",\n",
    "  \"executionSystem\": \"${MACH}-exec-${MACHINE_USERNAME}\",\n",
    "  \"batchQueue\": \"${QUEUE}\",\n",
    "  \"maxRunTime\": \"${MAX_TIME}\",\n",
    "  \"nodeCount\": 1,\n",
    "  \"processorsPerNode\": 1,\n",
    "  \"archive\": false,\n",
    "  \"archiveSystem\": \"${MACH}-storage-${MACHINE_USERNAME}\",\n",
    "  \"inputs\": {\n",
    "    \"parfile\": \"agave://${MACH}-storage-${MACHINE_USERNAME}/${HOME_DIR}/drawgau/input.txt\"\n",
    "  },\n",
    "  \"parameters\": {\n",
    "  },\n",
    "  \"notifications\": [\n",
    "    {\n",
    "      \"url\":\"${EMAIL}\",\n",
    "      \"event\":\"FINISHED\",\n",
    "      \"persistent\":false\n",
    "    },\n",
    "    {\n",
    "      \"url\":\"${EMAIL}\",\n",
    "      \"event\":\"FAILED\",\n",
    "      \"persistent\":false\n",
    "    }\n",
    "  ]\n",
    "}\n",
    "EOF"
   ]
  },
  {
   "cell_type": "markdown",
   "metadata": {},
   "source": [
    "#### Next, submit the job..."
   ]
  },
  {
   "cell_type": "code",
   "execution_count": 37,
   "metadata": {},
   "outputs": [
    {
     "name": "stdout",
     "output_type": "stream",
     "text": [
      "Successfully submitted job 5668974957858525671-242ac11c-0001-007\n"
     ]
    }
   ],
   "source": [
    "# Capture the output of the job submit command\n",
    "OUTPUT=$(jobs-submit -F job.txt)\n",
    "# Display the output of the job submit command\n",
    "echo $OUTPUT\n",
    "# Parse out the job id from the output\n",
    "JOB_ID=$(echo $OUTPUT | cut -d' ' -f4)"
   ]
  },
  {
   "cell_type": "markdown",
   "metadata": {},
   "source": [
    "#### Next, monitor its progress (optional)"
   ]
  },
  {
   "cell_type": "code",
   "execution_count": 38,
   "metadata": {},
   "outputs": [
    {
     "name": "stdout",
     "output_type": "stream",
     "text": [
      "PENDING\n",
      "PENDING\n",
      "PENDING\n",
      "STAGING_INPUTS\n",
      "STAGED\n",
      "STAGED\n",
      "STAGED\n",
      "STAGED\n",
      "SUBMITTING\n",
      "SUBMITTING\n",
      "FINISHED\n"
     ]
    }
   ],
   "source": [
    "# Watch the job to see when it finishes\n",
    "while true\n",
    "do\n",
    "  sleep 3\n",
    "  # Get the status of the job. It will always be one word.\n",
    "  STAT=$(jobs-status $JOB_ID)\n",
    "  echo $STAT\n",
    "  \n",
    "  # We are done when it finishes or fails.\n",
    "  if [ \"${STAT}\" = FINISHED ] ;  then break ; fi\n",
    "  if [ \"${STAT}\" = FAILED ] ;  then break ; fi\n",
    "done"
   ]
  },
  {
   "cell_type": "markdown",
   "metadata": {},
   "source": [
    "#### Job listing\n",
    "List the various files generated in the output directory"
   ]
  },
  {
   "cell_type": "code",
   "execution_count": 39,
   "metadata": {},
   "outputs": [
    {
     "name": "stdout",
     "output_type": "stream",
     "text": [
      "\u001b[1;0m.agave.archive\n",
      ".agave.log\n",
      "agave\n",
      "drawgau-wrapper.txt\n",
      "drawgau0.txt\n",
      "input.txt\n",
      "test-jobc-1-5668974957858525671-242ac11c-0001-007.err\n",
      "test-jobc-1-5668974957858525671-242ac11c-0001-007.out\n",
      "test-jobc-1.ipcexe\n",
      "test.txt\u001b[0m\n"
     ]
    }
   ],
   "source": [
    "jobs-output-list $JOB_ID"
   ]
  },
  {
   "cell_type": "markdown",
   "metadata": {},
   "source": [
    "#### Retrieve and edit the stderr from the job"
   ]
  },
  {
   "cell_type": "code",
   "execution_count": 40,
   "metadata": {},
   "outputs": [
    {
     "name": "stdout",
     "output_type": "stream",
     "text": [
      "######################################################################## 100.0%\n",
      "+ echo ==ENV=============\n",
      "+ env\n",
      "+ echo ==PWD=============\n",
      "+ pwd\n",
      "+ module add openmpi/1.10.4\n",
      "++ /usr/bin/modulecmd bash add openmpi/1.10.4\n",
      "+ eval LD_LIBRARY_PATH=/opt/mn/openmpi/1.10.4//lib:/opt/rh/rh-python35/root/usr/lib64:. ';export' 'LD_LIBRARY_PATH;'\n",
      "++ LD_LIBRARY_PATH=/opt/mn/openmpi/1.10.4//lib:/opt/rh/rh-python35/root/usr/lib64:.\n",
      "++ export LD_LIBRARY_PATH\n",
      "+ '[' input.txt = '' ']'\n",
      "+ mpirun /home/sbrandt/drawgau/drawgau input.txt\n",
      "++ curl -sSk 'https://public.agaveplatform.org/jobs/v2/trigger/job/5668974957858525671-242ac11c-0001-007/token/7523a9a5-2618-4508-af2a-42c13c5da1fa/status/CLEANING_UP?filter=id,status'\n",
      "+ agave_log_response '{\"status\":\"success\",\"message\":null,\"version\":\"2.2.0-r5daaf3f\",\"result\":{\"id\":\"5668974957858525671-242ac11c-0001-007\",\"status\":\"FINISHED\"}}'\n"
     ]
    }
   ],
   "source": [
    "jobs-output-get ${JOB_ID} test-jobc-1-${JOB_ID}.err\n",
    "cat test-jobc-1-${JOB_ID}.err"
   ]
  },
  {
   "cell_type": "code",
   "execution_count": 41,
   "metadata": {},
   "outputs": [
    {
     "name": "stdout",
     "output_type": "stream",
     "text": [
      "\r",
      "######################################################################## 100.0%\n"
     ]
    }
   ],
   "source": [
    "jobs-output-get ${JOB_ID} drawgau0.txt"
   ]
  },
  {
   "cell_type": "markdown",
   "metadata": {},
   "source": [
    "### The web-based GUI way to run a job..."
   ]
  },
  {
   "cell_type": "code",
   "execution_count": 43,
   "metadata": {},
   "outputs": [
    {
     "name": "stdout",
     "output_type": "stream",
     "text": [
      "Click the link to submit and run a job\n",
      "https://togo.agaveplatform.org/app/#/apps/drawgau-rostam-1.0/run\n"
     ]
    }
   ],
   "source": [
    "echo Click the link to submit and run a job\n",
    "echo https://togo.agaveplatform.org/app/#/apps/drawgau-${MACH}-1.0/run"
   ]
  },
  {
   "cell_type": "code",
   "execution_count": null,
   "metadata": {
    "collapsed": true
   },
   "outputs": [],
   "source": []
  }
 ],
 "metadata": {
  "kernelspec": {
   "display_name": "Bash",
   "language": "bash",
   "name": "bash"
  },
  "language_info": {
   "codemirror_mode": "shell",
   "file_extension": ".sh",
   "mimetype": "text/x-sh",
   "name": "bash"
  }
 },
 "nbformat": 4,
 "nbformat_minor": 2
}
