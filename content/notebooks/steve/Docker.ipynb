{
 "cells": [
  {
   "cell_type": "code",
   "execution_count": 1,
   "metadata": {},
   "outputs": [
    {
     "name": "stdout",
     "output_type": "stream",
     "text": [
      "/home/jovyan/agave\n",
      "Requirement already satisfied: setvar in /opt/conda/lib/python3.6/site-packages\n",
      "MACHINE_IP=149.165.157.140\n",
      "MACHINE_NAME=jetstream\n",
      "DOMAIN=jetstream-cloud.org\n",
      "EMAIL=sbrandt@cct.lsu.edu\n",
      "AGAVE_USERNAME=stevenrbrandt\n",
      "MACHINE_USERNAME=jovyan\n",
      "BASE_APP_NAME=funwave-tvd\n",
      "PORT=10022\n",
      "DOCKERHUB_NAME=stevenrbrandt\n",
      "WORK_DIR=/home/jovyan\n",
      "HOME_DIR=/home/jovyan\n",
      "SCRATCH_DIR=/home/jovyan\n",
      "DEPLOYMENT_PATH=agave-deployment\n",
      "PATH=/home/jovyan/agave/cli/bin:/opt/conda/bin:/opt/conda/bin:/usr/local/sbin:/usr/local/bin:/usr/sbin:/usr/bin:/sbin:/bin:/usr/local/jq/bin:/home/jovyan/src/cli/bin\n",
      "EXEC_MACHINE=jetstream-exec-stevenrbrandt\n",
      "AGAVE_JSON_PARSER=jq\n",
      "APP_NAME=funwave-tvd-jetstream-stevenrbrandt\n",
      "STORAGE_MACHINE=jetstream-storage-stevenrbrandt\n",
      "REMOTE_COMMAND=cd funwave-tvd-docker && docker build --rm -t funwave-tvd .\n",
      "IN_FILE=agave://jetstream-storage-stevenrbrandt/input.txt\n",
      "PBTOK=.....\n",
      "AGAVE_PASSWD=.....\n",
      "JOB_ID=8722401213345501671-242ac11b-0001-007\n",
      "STAT=PENDING\n"
     ]
    }
   ],
   "source": [
    "!mkdir -p ~/agave\n",
    "\n",
    "%cd ~/agave\n",
    "\n",
    "!pip3 install setvar\n",
    "\n",
    "import re\n",
    "import os\n",
    "import sys\n",
    "from setvar import *\n",
    "from time import sleep\n",
    "\n",
    "# This cell enables inline plotting in the notebook\n",
    "%matplotlib inline\n",
    "\n",
    "import matplotlib\n",
    "import numpy as np\n",
    "import matplotlib.pyplot as plt\n",
    "loadvar()"
   ]
  },
  {
   "cell_type": "code",
   "execution_count": 2,
   "metadata": {},
   "outputs": [
    {
     "name": "stdout",
     "output_type": "stream",
     "text": [
      "Writing file `entrypoint.sh'\n"
     ]
    }
   ],
   "source": [
    "writefile(\"entrypoint.sh\",\"\"\"\n",
    "#!/bin/bash\n",
    "useradd --shell /bin/bash -u \\$USER_ID -o -p foobar -c \"\" -m user\n",
    "export HOME=/home/user\n",
    "echo ARGS: \\$@\n",
    "id\n",
    "\n",
    "exec su - user -c \"\\$@\"\n",
    "\"\"\")"
   ]
  },
  {
   "cell_type": "code",
   "execution_count": 19,
   "metadata": {},
   "outputs": [
    {
     "name": "stdout",
     "output_type": "stream",
     "text": [
      "Writing file `funwave-tvd-docker/Dockerfile'\n"
     ]
    }
   ],
   "source": [
    "writefile(\"funwave-tvd-docker/Dockerfile\",\"\"\"\n",
    "FROM stevenrbrandt/science-base\n",
    "\n",
    "MAINTAINER Steven R. Brandt <sbrandt@cct.lsu.edu>\n",
    "RUN cd && \\\n",
    "    git clone https://github.com/fengyanshi/FUNWAVE-TVD && \\\n",
    "    cd FUNWAVE-TVD/src && \\\n",
    "    perl -p -i -e 's/FLAG_8 = -DCOUPLING/#$&/' Makefile && \\\n",
    "    make\n",
    "\n",
    "WORKDIR /home/jovyan/FUNWAVE-TVD/src\n",
    "RUN mkdir -p /home/jovyan/FUNWAVE-TVD/rundir\n",
    "WORKDIR /home/jovyan/FUNWAVE-TVD/rundir\n",
    "USER root\n",
    "COPY entrypoint.sh /usr/local/bin\n",
    "RUN chmod 755 /usr/local/bin/entrypoint.sh\n",
    "ENTRYPOINT [\"/usr/local/bin/entrypoint.sh\"]\n",
    "\"\"\")"
   ]
  },
  {
   "cell_type": "code",
   "execution_count": 20,
   "metadata": {},
   "outputs": [
    {
     "name": "stdout",
     "output_type": "stream",
     "text": [
      "\u001b[1;0mSuccessfully created folder funwave-tvd-docker\u001b[0m\n",
      "Uploading dockerjob.tgz...\n",
      "######################################################################## 100.0%\n"
     ]
    }
   ],
   "source": [
    "!tar czf dockerjob.tgz Dockerfile entrypoint.sh\n",
    "!files-mkdir -S ${STORAGE_MACHINE} -N funwave-tvd-docker\n",
    "!files-upload -F dockerjob.tgz -S ${STORAGE_MACHINE} funwave-tvd-docker/"
   ]
  },
  {
   "cell_type": "code",
   "execution_count": 5,
   "metadata": {
    "collapsed": true
   },
   "outputs": [],
   "source": [
    "from runagavecmd import *"
   ]
  },
  {
   "cell_type": "code",
   "execution_count": 21,
   "metadata": {},
   "outputs": [
    {
     "name": "stdout",
     "output_type": "stream",
     "text": [
      "REMOTE_COMMAND=tar xzf dockerjob.tgz && sudo docker build --rm -t funwave-tvd .\n",
      "IN_FILE=agave://jetstream-storage-stevenrbrandt/funwave-tvd-docker/dockerjob.tgz\n",
      "Writing file `job-remote.txt'\n",
      "OUTPUT=Successfully submitted job 3636206933178323431-242ac11b-0001-007\n",
      "JOB_ID=3636206933178323431-242ac11b-0001-007\n",
      "STAT=PENDING\n",
      "STAT=PENDING\n",
      "STAT=PENDING\n",
      "STAT=STAGED\n",
      "STAT=STAGED\n",
      "STAT=SUBMITTING\n",
      "STAT=RUNNING\n",
      "STAT=FINISHED\n",
      "CMD=jobs-output-get 3636206933178323431-242ac11b-0001-007 fork-command-1.out\n",
      "All done! Output follows.\n",
      "Reading file `fork-command-1.out'\n",
      "======================================================================\n",
      "Sending build context to Docker daemon  13.82kB\n",
      "\n",
      "Step 1/10 : FROM stevenrbrandt/science-base\n",
      " ---> e93db47f971c\n",
      "Step 2/10 : MAINTAINER Steven R. Brandt <sbrandt@cct.lsu.edu>\n",
      " ---> Using cache\n",
      " ---> 9bcc1f7703a9\n",
      "Step 3/10 : RUN cd &&     git clone https://github.com/fengyanshi/FUNWAVE-TVD &&     cd FUNWAVE-TVD/src &&     perl -p -i -e 's/FLAG_8 = -DCOUPLING/#$&/' Makefile &&     make\n",
      " ---> Using cache\n",
      " ---> 4b17dc8d3dbc\n",
      "Step 4/10 : WORKDIR /home/jovyan/FUNWAVE-TVD/src\n",
      " ---> Using cache\n",
      " ---> 82c527ad1c38\n",
      "Step 5/10 : RUN mkdir -p /home/jovyan/FUNWAVE-TVD/rundir\n",
      " ---> Using cache\n",
      " ---> ff4927b3d29f\n",
      "Step 6/10 : WORKDIR /home/jovyan/FUNWAVE-TVD/rundir\n",
      " ---> Using cache\n",
      " ---> 1c72957fb083\n",
      "Step 7/10 : USER root\n",
      " ---> Using cache\n",
      " ---> e9eb2f818137\n",
      "Step 8/10 : COPY entrypoint.sh /usr/local/bin\n",
      " ---> 87c4f6a094a6\n",
      "Step 9/10 : RUN chmod 755 /usr/local/bin/entrypoint.sh\n",
      " ---> Running in efad7da8c55b\n",
      " ---> 5e7af89396e9\n",
      "Removing intermediate container efad7da8c55b\n",
      "Step 10/10 : ENTRYPOINT /usr/local/bin/entrypoint.sh\n",
      " ---> Running in 7adc76a1a333\n",
      " ---> 38026a417b78\n",
      "Removing intermediate container 7adc76a1a333\n",
      "Successfully built 38026a417b78\n",
      "Successfully tagged funwave-tvd:latest\n",
      "\n"
     ]
    }
   ],
   "source": [
    "runagavecmd(\n",
    "    \"tar xzf dockerjob.tgz && sudo docker build --rm -t funwave-tvd .\",\n",
    "    \"agave://${STORAGE_MACHINE}/funwave-tvd-docker/dockerjob.tgz\"\n",
    ")"
   ]
  },
  {
   "cell_type": "code",
   "execution_count": 22,
   "metadata": {},
   "outputs": [
    {
     "name": "stdout",
     "output_type": "stream",
     "text": [
      "\r\n"
     ]
    }
   ],
   "source": [
    "!jobs-output-get ${JOB_ID} fork-command-1.err\n",
    "!cat fork-command-1.err"
   ]
  },
  {
   "cell_type": "code",
   "execution_count": 23,
   "metadata": {},
   "outputs": [
    {
     "name": "stdout",
     "output_type": "stream",
     "text": [
      "\u001b[1;0m.agave.archive\r\n",
      ".agave.log\r\n",
      "Dockerfile\r\n",
      "dockerjob.tgz\r\n",
      "entrypoint.sh\r\n",
      "fork-command-1.err\r\n",
      "fork-command-1.ipcexe\r\n",
      "fork-command-1.out\r\n",
      "fork-command-1.pid\r\n",
      "fork-test.txt\r\n",
      "fork-wrapper.txt\u001b[0m\r\n"
     ]
    }
   ],
   "source": [
    "!jobs-output-list ${JOB_ID}"
   ]
  },
  {
   "cell_type": "code",
   "execution_count": null,
   "metadata": {
    "collapsed": true
   },
   "outputs": [],
   "source": []
  }
 ],
 "metadata": {
  "kernelspec": {
   "display_name": "Python 3",
   "language": "python",
   "name": "python3"
  },
  "language_info": {
   "codemirror_mode": {
    "name": "ipython",
    "version": 3
   },
   "file_extension": ".py",
   "mimetype": "text/x-python",
   "name": "python",
   "nbconvert_exporter": "python",
   "pygments_lexer": "ipython3",
   "version": "3.6.2"
  }
 },
 "nbformat": 4,
 "nbformat_minor": 2
}
