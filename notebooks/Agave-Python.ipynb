{
 "cells": [
  {
   "cell_type": "markdown",
   "metadata": {},
   "source": [
    "<h1>Agave on Python</h1>\n",
    "This tutorial follows the steps of setting up an Agave Portal using a Python3-based Jupyter notebook. Despite using Python3 as the default language, the focus of this notebook is really on the shell commands the user would issue to perform the various operations. This is facilitated by the notebook's shell escapes, e.g. \"!echo hello\".\n",
    "\n",
    "The notebook follows the steps to setting up the portal from beginning to end, calling out the steps you might need to run when setting up for the first time, or when using it at a later date."
   ]
  },
  {
   "cell_type": "code",
   "execution_count": 97,
   "metadata": {
    "collapsed": true
   },
   "outputs": [],
   "source": [
    "# Here we define some utility commands to simplify interaction with the shell.\n",
    "# You don't need to read or understand this, but it's here in case you want to.\n",
    "import re\n",
    "import os\n",
    "def repvar(v):\n",
    "    \"\"\"\n",
    "    repvar() is short for \"Replace Variables.\" The idea is that this\n",
    "    function looks for strings of the form $VAR or ${VAR} or even\n",
    "    $(CMD) in the input string and replaces them, either with\n",
    "    the contents of os.environ[VAR] or os.pipe(CMD), mimicking the\n",
    "    behavior of bash. If a backslace precedes the $, then the backslash\n",
    "    will be removed but the string will not be evaluated. Thus:\n",
    "    ${HOME} becomes \"/home/user\"\n",
    "    $HOME becomes \"/home/usr\"\n",
    "    $(echo Hello) becomes \"Hello\"\n",
    "    \\$HOME becomes $HOME\n",
    "    \"\"\"\n",
    "    epos = 0\n",
    "    buf = ''\n",
    "    for g in re.finditer(r'\\$((\\w+)|\\{([^}]*)\\}|\\(([^())]*)\\))|(\\\\+\\$)',v):\n",
    "        if g:\n",
    "            i = 2\n",
    "            while g.group(i) == None:\n",
    "                i += 1\n",
    "            p = g.start(0)\n",
    "            buf += v[epos:p]\n",
    "            epos = p + len(g.group(0))\n",
    "            if i == 4:\n",
    "                fh = os.popen(g.group(i),\"r\")\n",
    "                c = repvar(fh.read())\n",
    "                fh.close()\n",
    "            elif i == 5:\n",
    "                c = '$'\n",
    "            else:\n",
    "                if not g.group(i) in os.environ:\n",
    "                    raise Exception(\"no such environment variable: \"+g.group(i))\n",
    "                c = repvar(os.environ[g.group(i)])\n",
    "            buf += c\n",
    "        else:\n",
    "            break\n",
    "    buf += v[epos:]\n",
    "    return buf.strip()\n",
    "def setvar(e):\n",
    "    \"\"\"\n",
    "    setvar() emulates the ability of BASH to set environment variables.\n",
    "    Thus, NAME=VALUE will set os.environ[\"NAME\"]=\"VALUE\". Bash-style\n",
    "    comments will be stripped, and bash-line continuations will be processed.\n",
    "    \"\"\"\n",
    "    e = re.sub(r'#[^\\r\\n]*','',e)\n",
    "    e = re.sub(r'\\\\\\n\\s*','',e)\n",
    "    for m in re.finditer(r'(?m)(\\w+)=(.*)',e):\n",
    "        k = m.group(1)\n",
    "        v = repvar(m.group(2))\n",
    "        print(k+\"=\"+v)\n",
    "        os.environ[k]=v\n",
    "def readfile(f):\n",
    "    \"\"\"\n",
    "    Reads in a file. repvar() will be applied to the file name.\n",
    "    \"\"\"\n",
    "    n = repvar(f)\n",
    "    print(\"Reading file `\"+n+\"'\")\n",
    "    fh = open(n)\n",
    "    c = fh.read()\n",
    "    fh.close()\n",
    "    return c\n",
    "def writefile(f,c):\n",
    "    \"\"\"\n",
    "    Writes out a file. repvar() will be applied both to the file name\n",
    "    and the file contents.\n",
    "    \"\"\"\n",
    "    n = repvar(f)\n",
    "    print(\"Writing file `\"+n+\"'\")\n",
    "    fh = open(n,\"w\")\n",
    "    fh.write(repvar(c))\n",
    "    fh.close()"
   ]
  },
  {
   "cell_type": "markdown",
   "metadata": {},
   "source": [
    "### Run Every Time\n",
    "A lot of detailed configuration needs to be\n",
    "set if we're to use Agave to run on a remote\n",
    "machine. If you don't have an Agave account,\n",
    "you can get one here: https://public.agaveapi.co/create_account"
   ]
  },
  {
   "cell_type": "code",
   "execution_count": 98,
   "metadata": {},
   "outputs": [
    {
     "name": "stdout",
     "output_type": "stream",
     "text": [
      "MACHINE=shelob.hpc.lsu.edu\n",
      "AGAVE_USERNAME=stevenrbrandt\n",
      "MACHINE_USERNAME=sbrandt\n",
      "BASE_APP_NAME=drawgau\n",
      "PORT=22\n",
      "WORK_DIR=/work/sbrandt\n",
      "HOME_DIR=/home/sbrandt\n",
      "SCRATCH_DIR=/work/sbrandt\n",
      "EMAIL=sbrandt@cct.lsu.edu\n",
      "DEPLOYMENT_PATH=agave-deployment\n",
      "ALLOCATION=hpc_hyrel17\n"
     ]
    }
   ],
   "source": [
    "# This contains nearly all the configuration\n",
    "# required by the tutorial. Please edit and adjust\n",
    "# according to your needs. Each NAME=VALUE line\n",
    "# sets the corresponding os.environment variable,\n",
    "# and prints out the assignment so you can see the\n",
    "# value that was assigned.\n",
    "setvar(\"\"\"\n",
    "MACHINE=shelob.hpc.lsu.edu\n",
    "AGAVE_USERNAME=stevenrbrandt\n",
    "MACHINE_USERNAME=sbrandt\n",
    "BASE_APP_NAME=drawgau\n",
    "PORT=22\n",
    "WORK_DIR=/work/${MACHINE_USERNAME}\n",
    "HOME_DIR=/home/${MACHINE_USERNAME}\n",
    "SCRATCH_DIR=/work/${MACHINE_USERNAME}\n",
    "EMAIL=sbrandt@cct.lsu.edu\n",
    "DEPLOYMENT_PATH=agave-deployment\n",
    "ALLOCATION=hpc_hyrel17\n",
    "\"\"\")"
   ]
  },
  {
   "cell_type": "markdown",
   "metadata": {},
   "source": [
    "<h2>Get Passwords</h2>\n",
    "The next two commands load passwords that you will need to issue during the tutorial into memory.\n",
    "We use python3's getpass() facility to avoid displaying said passwords on the screen."
   ]
  },
  {
   "cell_type": "code",
   "execution_count": 3,
   "metadata": {},
   "outputs": [
    {
     "name": "stdout",
     "output_type": "stream",
     "text": [
      "Password for stevenrbrandt\n",
      "········\n"
     ]
    }
   ],
   "source": [
    "from getpass import getpass\n",
    "print(repvar(\"Password for $AGAVE_USERNAME\"))\n",
    "os.environ[\"AGAVE_PASSWD\"]=getpass()"
   ]
  },
  {
   "cell_type": "code",
   "execution_count": 5,
   "metadata": {},
   "outputs": [
    {
     "name": "stdout",
     "output_type": "stream",
     "text": [
      "Password for sbrandt\n",
      "········\n"
     ]
    }
   ],
   "source": [
    "print(repvar(\"Password for $MACHINE_USERNAME\"))\n",
    "MACHINE_PASSWD=getpass()"
   ]
  },
  {
   "cell_type": "code",
   "execution_count": 6,
   "metadata": {},
   "outputs": [
    {
     "name": "stdout",
     "output_type": "stream",
     "text": [
      "Configuring for Machine: shelob\n",
      "Full Name: `shelob.hpc.lsu.edu'\n",
      "Network: `hpc.lsu.edu'\n"
     ]
    }
   ],
   "source": [
    "import re\n",
    "g=re.match(r'([^\\.]*)\\.(.*)',os.environ[\"MACHINE\"])\n",
    "os.environ[\"MACH\"]=g.group(1)\n",
    "os.environ[\"NETWORK\"]=g.group(2)\n",
    "print(repvar(\"\"\"\n",
    "Configuring for Machine: $MACH\n",
    "Full Name: `$MACHINE'\n",
    "Network: `$NETWORK'\n",
    "\"\"\"))"
   ]
  },
  {
   "cell_type": "code",
   "execution_count": 7,
   "metadata": {},
   "outputs": [
    {
     "name": "stdout",
     "output_type": "stream",
     "text": [
      "APP_NAME=drawgau-shelob-stevenrbrandt\n"
     ]
    }
   ],
   "source": [
    "setvar(\"APP_NAME=${BASE_APP_NAME}-${MACH}-${AGAVE_USERNAME}\")"
   ]
  },
  {
   "cell_type": "code",
   "execution_count": 8,
   "metadata": {},
   "outputs": [
    {
     "name": "stdout",
     "output_type": "stream",
     "text": [
      "PATH=/home/sbrandt/agave/cli/bin:/usr/local/bin/anaconda2/bin:/root/anaconda2/bin:/usr/local/bin/anaconda2/bin:/root/anaconda2/bin:/usr/local/sbin:/usr/local/bin:/sbin:/bin:/usr/sbin:/usr/bin:/root/bin\n"
     ]
    }
   ],
   "source": [
    "setvar(\"PATH=$HOME/agave/cli/bin:$PATH\")"
   ]
  },
  {
   "cell_type": "code",
   "execution_count": 9,
   "metadata": {
    "collapsed": true
   },
   "outputs": [],
   "source": [
    "%mkdir -p ~/agave"
   ]
  },
  {
   "cell_type": "code",
   "execution_count": 10,
   "metadata": {},
   "outputs": [
    {
     "name": "stdout",
     "output_type": "stream",
     "text": [
      "/home/sbrandt/agave\n"
     ]
    }
   ],
   "source": [
    "%cd ~/agave"
   ]
  },
  {
   "cell_type": "code",
   "execution_count": 11,
   "metadata": {},
   "outputs": [
    {
     "name": "stdout",
     "output_type": "stream",
     "text": [
      "AGAVE_JSON_PARSER=jq\n"
     ]
    }
   ],
   "source": [
    "setvar(\"AGAVE_JSON_PARSER=jq\")"
   ]
  },
  {
   "cell_type": "markdown",
   "metadata": {},
   "source": [
    "## The next few cells only needs to be  run the first time\n",
    "\n",
    "Before you run them, create a password for yourself and copy it into the paste buffer.\n",
    "\n",
    "BTW, if you need to create a password, here's a nice password generator: https://www.cct.lsu.edu/~sbrandt/passwds.php"
   ]
  },
  {
   "cell_type": "code",
   "execution_count": 12,
   "metadata": {},
   "outputs": [
    {
     "name": "stdout",
     "output_type": "stream",
     "text": [
      "Cloning into 'cli'...\n",
      "remote: Counting objects: 2384, done.\u001b[K\n",
      "remote: Compressing objects: 100% (994/994), done.\u001b[K\n",
      "remote: Total 2384 (delta 1956), reused 1664 (delta 1380)\u001b[K  \n",
      "Receiving objects: 100% (2384/2384), 14.86 MiB | 5.68 MiB/s, done.\n",
      "Resolving deltas: 100% (1956/1956), done.\n"
     ]
    }
   ],
   "source": [
    "!git clone https://bitbucket.org/agaveapi/cli.git"
   ]
  },
  {
   "cell_type": "code",
   "execution_count": 13,
   "metadata": {},
   "outputs": [
    {
     "name": "stdout",
     "output_type": "stream",
     "text": [
      "\u001b[1;0mYou are now configured to interact with the APIs at https://public.agaveapi.co/\u001b[0m\r\n"
     ]
    }
   ],
   "source": [
    "# This prepares your linux account for use with Agave.\n",
    "!tenants-init -t agave.prod"
   ]
  },
  {
   "cell_type": "markdown",
   "metadata": {},
   "source": [
    "Agave requires you to have a client (really, just a name that you make up# associated with your account. The commands below either create, or recreate that client.\n",
    "From time to time your login credentials will become messed up and you will need to\n",
    "delete and recreate your client. Otherwise, you will be able to use auth-tokens-refresh\n",
    "to renew your Agave credentials."
   ]
  },
  {
   "cell_type": "code",
   "execution_count": 14,
   "metadata": {},
   "outputs": [
    {
     "name": "stdout",
     "output_type": "stream",
     "text": [
      "\u001b[1;0mSuccessfully deleted client drawgau-shelob-stevenrbrandt\u001b[0m\r\n"
     ]
    }
   ],
   "source": [
    "!clients-delete -u $AGAVE_USERNAME -p \"$AGAVE_PASSWD\" $APP_NAME "
   ]
  },
  {
   "cell_type": "code",
   "execution_count": 16,
   "metadata": {},
   "outputs": [
    {
     "name": "stdout",
     "output_type": "stream",
     "text": [
      "\u001b[1;0m\u001b[1;0mSuccessfully created client drawgau-shelob-stevenrbrandt\r\n",
      "key: TrLtGty709cUhyszJM6S3oHNOO4a \r\n",
      "secret: ypyoIPk5Vpj0RiEwqYfSMpftvAoa\u001b[0m\u001b[0m\r\n"
     ]
    }
   ],
   "source": [
    "!clients-create -p \"$AGAVE_PASSWD\" -S -N $APP_NAME -u $AGAVE_USERNAME"
   ]
  },
  {
   "cell_type": "code",
   "execution_count": 17,
   "metadata": {},
   "outputs": [
    {
     "name": "stdout",
     "output_type": "stream",
     "text": [
      "\u001b[1;0mToken for agave.prod:stevenrbrandt successfully refreshed and cached for 14400 seconds\r\n",
      "ef7e8d3f6c641e0eae4c0ffcb6ce99b\u001b[0m\r\n"
     ]
    }
   ],
   "source": [
    "!auth-tokens-create -u $AGAVE_USERNAME -p \"$AGAVE_PASSWD\""
   ]
  },
  {
   "cell_type": "markdown",
   "metadata": {},
   "source": [
    "We will configure Agave to use SSH keys to communicate with\n",
    "the storage and execution hosts. Our first step is to generate them.\n",
    "The public key appears below."
   ]
  },
  {
   "cell_type": "code",
   "execution_count": 18,
   "metadata": {},
   "outputs": [
    {
     "name": "stdout",
     "output_type": "stream",
     "text": [
      "Generating public/private rsa key pair.\r\n",
      "Your identification has been saved in shelob-key.\r\n",
      "Your public key has been saved in shelob-key.pub.\r\n",
      "The key fingerprint is:\r\n",
      "72:5f:98:07:d8:72:0a:93:fd:0b:e2:5e:ad:13:2f:80 sbrandt@melete05.cct.lsu.edu\r\n",
      "The key's randomart image is:\r\n",
      "+--[ RSA 2048]----+\r\n",
      "|                 |\r\n",
      "|       o o       |\r\n",
      "|      + + +      |\r\n",
      "|       o = +     |\r\n",
      "|     .o S + o    |\r\n",
      "|    E..+.+ +     |\r\n",
      "|      ...o+      |\r\n",
      "|     . .o..      |\r\n",
      "|      . .o       |\r\n",
      "+-----------------+\r\n"
     ]
    }
   ],
   "source": [
    "!ssh-keygen -f ${MACH}-key -N \"\" < /dev/null"
   ]
  },
  {
   "cell_type": "code",
   "execution_count": 19,
   "metadata": {
    "collapsed": true
   },
   "outputs": [],
   "source": [
    "# SSH won't be happy if these permissions aren't right.\n",
    "# 600 means the owner can read and write the file, but no one else.\n",
    "!chmod 600 ${MACH}-key"
   ]
  },
  {
   "cell_type": "code",
   "execution_count": 23,
   "metadata": {},
   "outputs": [
    {
     "name": "stdout",
     "output_type": "stream",
     "text": [
      "4 -rw-------. 1 sbrandt internalusers 22 Aug 10 06:40 /home/sbrandt/pw.txt\r\n"
     ]
    }
   ],
   "source": [
    "# Store your password in ~/pw.txt. Ensure that this file is\n",
    "# not readable by others.\n",
    "!rm ~/pw.txt\n",
    "fd = os.open(os.environ[\"HOME\"]+\"/pw.txt\",os.O_WRONLY|os.O_CREAT,0o600)\n",
    "os.write(fd,bytes(MACHINE_PASSWD,\"ASCII\"))\n",
    "os.close(fd)\n",
    "!ls -ls ~/pw.txt"
   ]
  },
  {
   "cell_type": "code",
   "execution_count": 24,
   "metadata": {
    "collapsed": true
   },
   "outputs": [],
   "source": [
    "# The command below will install your public key on the target machine. Once\n",
    "# this is in place, you won't need to use a password to login to that machine again.\n",
    "# Note: The command below assumes you have .ssh directory on the remote machine with\n",
    "# the correct permission settings.\n",
    "#\n",
    "# The bash kernel for jupyter notebooks does not allow prompting for passwords.\n",
    "# Copy the output of the echo command into a terminal and execute it\n",
    "!cat ~/agave/${MACH}-key.pub | sshpass -f ~/pw.txt ssh -p ${PORT} ${MACHINE_USERNAME}@${MACHINE} sh -c \"cat - >> ~/.ssh/authorized_keys\""
   ]
  },
  {
   "cell_type": "code",
   "execution_count": 25,
   "metadata": {},
   "outputs": [
    {
     "name": "stdout",
     "output_type": "stream",
     "text": [
      "Key is installed\r\n"
     ]
    }
   ],
   "source": [
    "# The next command will verify that the public key you have generated and installed\n",
    "# is configured correctly. If everything was done properly, the message \"Key is installed\"\n",
    "# should print below.\n",
    "!ssh -o \"StrictHostKeyChecking=no\" -o \"IdentitiesOnly=yes\" -o \"BatchMode=yes\" \\\n",
    "    -o \"IdentityFile=${MACH}-key\" ${MACHINE_USERNAME}@${MACHINE} -p ${PORT} \\\n",
    "  echo Key is installed"
   ]
  },
  {
   "cell_type": "code",
   "execution_count": 26,
   "metadata": {
    "collapsed": true
   },
   "outputs": [],
   "source": [
    "# The public and private keys will need to be inserted into\n",
    "# json data structures. By default, they are not properly formatted\n",
    "# for this purpose. The jsonpki command \"fixes\" them.\n",
    "!jsonpki --public ${MACH}-key.pub > ${MACH}-key.pub.txt\n",
    "!jsonpki --private ${MACH}-key > ${MACH}-key.txt"
   ]
  },
  {
   "cell_type": "markdown",
   "metadata": {},
   "source": [
    "### Configure the Storage Machine\n",
    "Like everything else in Agave, the storage machine is configured\n",
    "with a special json file."
   ]
  },
  {
   "cell_type": "code",
   "execution_count": 28,
   "metadata": {
    "collapsed": true
   },
   "outputs": [],
   "source": [
    "os.environ[\"PUB_KEY\"]=readfile(\"${MACH}-key.pub.txt\").strip()\n",
    "os.environ[\"PRIV_KEY\"]=readfile(\"${MACH}-key.txt\").strip()"
   ]
  },
  {
   "cell_type": "code",
   "execution_count": 29,
   "metadata": {},
   "outputs": [
    {
     "name": "stdout",
     "output_type": "stream",
     "text": [
      "STORAGE_MACHINE=shelob-storage-stevenrbrandt\n"
     ]
    }
   ],
   "source": [
    "setvar(\"STORAGE_MACHINE=${MACH}-storage-${AGAVE_USERNAME}\")"
   ]
  },
  {
   "cell_type": "code",
   "execution_count": 30,
   "metadata": {
    "collapsed": true
   },
   "outputs": [],
   "source": [
    "writefile(\"${STORAGE_MACHINE}.txt\",\"\"\"{\n",
    "    \"id\": \"${STORAGE_MACHINE}\",\n",
    "    \"name\": \"${MACH} storage (${MACHINE_USERNAME})\",\n",
    "    \"description\": \"The ${MACH} computer\",\n",
    "    \"site\": \"${NETWORK}\",\n",
    "    \"type\": \"STORAGE\",\n",
    "    \"storage\": {\n",
    "        \"host\": \"${MACHINE}\",\n",
    "        \"port\": ${PORT},\n",
    "        \"protocol\": \"SFTP\",\n",
    "        \"rootDir\": \"/\",\n",
    "        \"homeDir\": \"${HOME_DIR}\",\n",
    "        \"auth\": {\n",
    "          \"username\" : \"${MACHINE_USERNAME}\",\n",
    "          \"publicKey\" : \"${PUB_KEY}\",\n",
    "          \"privateKey\" : \"${PRIV_KEY}\",\n",
    "          \"type\" : \"SSHKEYS\"\n",
    "        }\n",
    "    }\n",
    "}\n",
    "\"\"\")"
   ]
  },
  {
   "cell_type": "code",
   "execution_count": 31,
   "metadata": {},
   "outputs": [
    {
     "name": "stdout",
     "output_type": "stream",
     "text": [
      "\u001b[1;0m\u001b[1;0mSuccessfully added system shelob-storage-stevenrbrandt\u001b[0m\u001b[0m\r\n"
     ]
    }
   ],
   "source": [
    "!systems-addupdate -F ${STORAGE_MACHINE}.txt"
   ]
  },
  {
   "cell_type": "code",
   "execution_count": 32,
   "metadata": {},
   "outputs": [
    {
     "name": "stdout",
     "output_type": "stream",
     "text": [
      ".\r\n",
      ".bash_history\r\n",
      ".bash_history3\r\n",
      ".bash_logout\r\n",
      ".bash_profile\r\n"
     ]
    }
   ],
   "source": [
    "!files-list -S ${STORAGE_MACHINE} ./ | head -5"
   ]
  },
  {
   "cell_type": "markdown",
   "metadata": {},
   "source": [
    "### Configure the Execution Machine\n",
    "The first thing we need to do is gather some information about\n",
    "the execution machine, it's queues, processors, etc."
   ]
  },
  {
   "cell_type": "code",
   "execution_count": 33,
   "metadata": {},
   "outputs": [
    {
     "name": "stdout",
     "output_type": "stream",
     "text": [
      "\n",
      "server: mike3\n",
      "\n",
      "Queue            Memory CPU Time Walltime Node  Run Que Lm  State\n",
      "---------------- ------ -------- -------- ----  --- --- --  -----\n",
      "workq              --      --    72:00:00   128  23   0 --   E R\n",
      "mwfa               --      --    72:00:00     8   0   0 --   E R\n",
      "bigmem             --      --    168:00:0     1   2   0 --   E R\n",
      "westmere           --      --    168:00:0     1   0   0 --   E R\n",
      "lasigma            --      --    72:00:00    28   0   0 --   E R\n",
      "bigmemtb           --      --    48:00:00     1   0   0 --   E R\n",
      "priority           --      --    168:00:0   128   0   0 --   E R\n",
      "single             --      --    72:00:00     1   0   0 --   E R\n",
      "gpu                --      --    72:00:00    16   0   0 --   E R\n",
      "preempt            --      --    72:00:00   --    0   0 --   E R\n",
      "checkpt            --      --    72:00:00   128  14   0 --   E R\n",
      "admin              --      --    24:00:00   --    0   0 --   E R\n",
      "scalemp            --      --    24:00:00     1   0   0 --   E R\n",
      "shelob             --      --    72:00:00    42   0   0 --   E R\n",
      "                                               ----- -----\n",
      "                                                  39     0\n"
     ]
    }
   ],
   "source": [
    "# Assuming ${MACHINE} uses torque as a queuing system, this will get info about the queues\n",
    "# The command you need to use to list the queue information varies from system to system.\n",
    "# For Torque, the command is \"qstat -q.\"\n",
    "!ssh -o \"IdentityFile=${MACH}-key\" ${MACHINE_USERNAME}@${MACHINE} -p ${PORT} qstat -q "
   ]
  },
  {
   "cell_type": "code",
   "execution_count": 34,
   "metadata": {},
   "outputs": [
    {
     "name": "stdout",
     "output_type": "stream",
     "text": [
      "MAX_TIME=72:00:00\n",
      "CPUINFO=Architecture:          x86_64\n",
      "CPU op-mode(s):        32-bit, 64-bit\n",
      "Byte Order:            Little Endian\n",
      "CPU(s):                16\n",
      "On-line CPU(s) list:   0-15\n",
      "Thread(s) per core:    1\n",
      "Core(s) per socket:    8\n",
      "Socket(s):             2\n",
      "NUMA node(s):          2\n",
      "Vendor ID:             GenuineIntel\n",
      "CPU family:            6\n",
      "Model:                 45\n",
      "Model name:            Intel(R) Xeon(R) CPU E5-2670 0 @ 2.60GHz\n",
      "Stepping:              7\n",
      "CPU MHz:               1200.000\n",
      "BogoMIPS:              5199.24\n",
      "Virtualization:        VT-x\n",
      "L1d cache:             32K\n",
      "L1i cache:             32K\n",
      "L2 cache:              256K\n",
      "L3 cache:              20480K\n",
      "NUMA node0 CPU(s):     0-7\n",
      "NUMA node1 CPU(s):     8-15\n",
      "QUEUE=shelob\n",
      "NODES=42\n",
      "PROCS=16\n"
     ]
    }
   ],
   "source": [
    "setvar(\"\"\"\n",
    "# Gather info about the machine\n",
    "# Executing this cell is essential\n",
    "MAX_TIME=72:00:00 # Max duration of a job\n",
    "# We figure out the number of processes automatically.\n",
    "# This assumes the head node and compute nodes have\n",
    "# the same number of procs.\n",
    "CPUINFO=$(ssh -o \"IdentityFile=${MACH}-key\" ${MACHINE_USERNAME}@${MACHINE} -p ${PORT} lscpu)\n",
    "QUEUE=shelob # Name of default queue\n",
    "NODES=42 # Number of nodes in queue\n",
    "\"\"\")\n",
    "g = re.search(r'(?m)CPU\\(s\\):\\s*(\\d+)',os.environ[\"CPUINFO\"])\n",
    "os.environ[\"PROCS\"]=g.group(1)\n",
    "print(repvar(\"PROCS=$PROCS\"))"
   ]
  },
  {
   "cell_type": "code",
   "execution_count": 35,
   "metadata": {},
   "outputs": [
    {
     "name": "stdout",
     "output_type": "stream",
     "text": [
      "EXEC_MACHINE=shelob-exec-stevenrbrandt\n"
     ]
    }
   ],
   "source": [
    "setvar(\"EXEC_MACHINE=${MACH}-exec-${AGAVE_USERNAME}\")"
   ]
  },
  {
   "cell_type": "code",
   "execution_count": 36,
   "metadata": {
    "collapsed": true
   },
   "outputs": [],
   "source": [
    "# You will probably need to provide a custom header\n",
    "# for your batch queue scripts to identify the allocation\n",
    "# that your job will use. Some machines may require other\n",
    "# special information. The shelob machine upon which this\n",
    "# tutorial is based requires ppn=16 to be set. You may\n",
    "# want to edit that parameter if you are using this notebook\n",
    "# for a different machine.\n",
    "os.environ[\"DIRECTIVES\"]=re.sub(\"\\n\\\\s*\",r\"\\\\n\",r\"\"\"\n",
    "#PBS -A ${ALLOCATION}\n",
    "#PBS -l cput=\\${AGAVE_JOB_MAX_RUNTIME}\n",
    "#PBS -l walltime=\\${AGAVE_JOB_MAX_RUNTIME}\n",
    "#PBS -q \\${AGAVE_JOB_BATCH_QUEUE}\n",
    "#PBS -l nodes=\\${AGAVE_JOB_NODE_COUNT}:ppn=16\n",
    "\"\"\".strip())"
   ]
  },
  {
   "cell_type": "code",
   "execution_count": 37,
   "metadata": {},
   "outputs": [
    {
     "data": {
      "text/plain": [
       "'#PBS -A ${ALLOCATION}\\\\n#PBS -l cput=\\\\${AGAVE_JOB_MAX_RUNTIME}\\\\n#PBS -l walltime=\\\\${AGAVE_JOB_MAX_RUNTIME}\\\\n#PBS -q \\\\${AGAVE_JOB_BATCH_QUEUE}\\\\n#PBS -l nodes=\\\\${AGAVE_JOB_NODE_COUNT}:ppn=16'"
      ]
     },
     "execution_count": 37,
     "metadata": {},
     "output_type": "execute_result"
    }
   ],
   "source": [
    "os.environ[\"DIRECTIVES\"]"
   ]
  },
  {
   "cell_type": "code",
   "execution_count": 38,
   "metadata": {
    "collapsed": true
   },
   "outputs": [],
   "source": [
    "# Edit any parts of this file that you know need to be changed for your machine.\n",
    "writefile(\"${EXEC_MACHINE}.txt\",\"\"\"\n",
    "{\n",
    "    \"id\": \"${EXEC_MACHINE}\",\n",
    "    \"name\": \"${MACH} (${MACHINE_USERNAME})\",\n",
    "    \"description\": \"The ${MACH} computer\",\n",
    "    \"site\": \"${NETWORK}\",\n",
    "    \"public\": false,\n",
    "    \"status\": \"UP\",\n",
    "    \"type\": \"EXECUTION\",\n",
    "    \"executionType\": \"HPC\",\n",
    "    \"scheduler\" : \"CUSTOM_TORQUE\",\n",
    "    \"environment\": null,\n",
    "    \"scratchDir\" : \"${SCRATCH_DIR}\",\n",
    "    \"queues\": [\n",
    "        {\n",
    "            \"customDirectives\" : \"${DIRECTIVES}\",\n",
    "            \"name\": \"${QUEUE}\",\n",
    "            \"default\": true,\n",
    "            \"maxJobs\": 10,\n",
    "            \"maxUserJobs\": 10,\n",
    "            \"maxNodes\": ${NODES},\n",
    "            \"maxProcessorsPerNode\": ${PROCS},\n",
    "            \"minProcessorsPerNode\": 1,\n",
    "            \"maxRequestedTime\": \"${MAX_TIME}\"\n",
    "        }\n",
    "    ],\n",
    "    \"login\": {\n",
    "        \"auth\": {\n",
    "          \"username\" : \"${MACHINE_USERNAME}\",\n",
    "          \"publicKey\" : \"${PUB_KEY}\",\n",
    "          \"privateKey\" : \"${PRIV_KEY}\",\n",
    "          \"type\" : \"SSHKEYS\"\n",
    "        },\n",
    "        \"host\": \"${MACHINE}\",\n",
    "        \"port\": ${PORT},\n",
    "        \"protocol\": \"SSH\"\n",
    "    },\n",
    "    \"maxSystemJobs\": 50,\n",
    "    \"maxSystemJobsPerUser\": 50,\n",
    "    \"storage\": {\n",
    "        \"host\": \"${MACHINE}\",\n",
    "        \"port\": ${PORT},\n",
    "        \"protocol\": \"SFTP\",\n",
    "        \"rootDir\": \"/\",\n",
    "        \"homeDir\": \"${HOME_DIR}\",\n",
    "        \"auth\": {\n",
    "          \"username\" : \"${MACHINE_USERNAME}\",\n",
    "          \"publicKey\" : \"${PUB_KEY}\",\n",
    "          \"privateKey\" : \"${PRIV_KEY}\",\n",
    "          \"type\" : \"SSHKEYS\"\n",
    "        }\n",
    "    },\n",
    "    \"workDir\": \"${WORK_DIR}\"\n",
    "}\"\"\")"
   ]
  },
  {
   "cell_type": "code",
   "execution_count": 39,
   "metadata": {},
   "outputs": [
    {
     "name": "stdout",
     "output_type": "stream",
     "text": [
      "\u001b[1;0m\u001b[1;0mSuccessfully added system shelob-exec-stevenrbrandt\u001b[0m\u001b[0m\r\n"
     ]
    }
   ],
   "source": [
    "!systems-addupdate -F ${EXEC_MACHINE}.txt"
   ]
  },
  {
   "cell_type": "code",
   "execution_count": 40,
   "metadata": {},
   "outputs": [
    {
     "name": "stdout",
     "output_type": "stream",
     "text": [
      ".\r\n",
      ".bash_history\r\n",
      ".bash_history3\r\n",
      ".bash_logout\r\n",
      ".bash_profile\r\n"
     ]
    }
   ],
   "source": [
    "# Test to see if this worked...\n",
    "!files-list -S ${EXEC_MACHINE} ./ | head -5"
   ]
  },
  {
   "cell_type": "markdown",
   "metadata": {},
   "source": [
    "### Configure the Application\n",
    "This will have a number of steps and pieces.\n",
    "First we are creating the wrapper script. This\n",
    "is the thing that will be submitted to the\n",
    "resource scheduler on the remote machine.\n",
    "Typically, it is a bash script."
   ]
  },
  {
   "cell_type": "code",
   "execution_count": 41,
   "metadata": {
    "collapsed": true
   },
   "outputs": [],
   "source": [
    "writefile(\"drawgau-wrapper.txt\",\"\"\"\n",
    "#!/bin/bash\n",
    "echo 'Executing Draw Gau Code'\n",
    "# Setting the x flag will echo every\n",
    "# command onto stderr. This is\n",
    "# for debugging, so we can see what's\n",
    "# going on.\n",
    "set -x\n",
    "echo ==ENV=============\n",
    "# The env command prints out the\n",
    "# entire execution environment. This\n",
    "# is also present for debugging purposes.\n",
    "env\n",
    "echo ==PWD=============\n",
    "# We also print out the execution\n",
    "# directory. Again, for debugging purposes.\n",
    "pwd\n",
    "echo ==JOB=============\n",
    "EXE_DIR=/home/${MACHINE_USERNAME}/drawgau\n",
    "# \\${parfile} will be substituted by Agave\n",
    "# I like having my environment variables in\n",
    "# upper case, that's the only reason for this\n",
    "# assignment.\n",
    "FAIL=no\n",
    "if [ \"\\${parfile}\" = \"\" ]\n",
    "then\n",
    "  echo \"The parfile was not set\"\n",
    "  # Note: Job failure must be explicitly reported to\n",
    "  # the Agave framework, otherwise it might\n",
    "  # mistakenly believe the job is still running.\n",
    "  \\$(\\${AGAVE_JOB_CALLBACK_FAILURE})\n",
    "  exit 1\n",
    "fi\n",
    "if [ \"\\${PBS_NODEFILE}\" = \"\" ]\n",
    "then\n",
    "  # When running on a system managed by Torque\n",
    "  # this variable should be set. If it's not,\n",
    "  # that's a problem.\n",
    "  echo \"The PBS_NODEFILE was not set\"\n",
    "  \\$(\\${AGAVE_JOB_CALLBACK_FAILURE})\n",
    "  exit 2\n",
    "fi\n",
    "\n",
    "# By default, the PBS_NODEFILE lists nodes multiple\n",
    "# times, once for each MPI process that should run\n",
    "# there. We only want one MPI process per node, so\n",
    "# we create a new file with \"sort -u\".\n",
    "LOCAL_NODEFILE=nodefile.txt\n",
    "sort -u < \\${PBS_NODEFILE} > \\${LOCAL_NODEFILE}\n",
    "PROCS=\\$(wc -l < \\${LOCAL_NODEFILE})\n",
    "\n",
    "if [ \"\\${PROCS}\" = \"\" ]\n",
    "then\n",
    "  echo \"PROCS was not set\"\n",
    "  \\$(\\${AGAVE_JOB_CALLBACK_FAILURE})\n",
    "  exit 3\n",
    "fi\n",
    "\n",
    "# Execute our MPI command.\n",
    "mpirun -np \\${PROCS} -machinefile \\${LOCAL_NODEFILE} \\${EXE_DIR}/drawgau \\${parfile}\n",
    "\"\"\")"
   ]
  },
  {
   "cell_type": "code",
   "execution_count": 42,
   "metadata": {},
   "outputs": [
    {
     "name": "stdout",
     "output_type": "stream",
     "text": [
      "\u001b[1;0mSuccessfully created folder agave-deployment\u001b[0m\n",
      "Uploading drawgau-wrapper.txt...\n",
      "######################################################################## 100.0%\n"
     ]
    }
   ],
   "source": [
    "!files-mkdir -S ${STORAGE_MACHINE} -N ${DEPLOYMENT_PATH}\n",
    "!files-upload -F drawgau-wrapper.txt -S ${STORAGE_MACHINE} ${DEPLOYMENT_PATH}/"
   ]
  },
  {
   "cell_type": "markdown",
   "metadata": {},
   "source": [
    "#### The test file\n",
    "Next we create and configure a test script. It simply names the wrapper and suggested parfile."
   ]
  },
  {
   "cell_type": "code",
   "execution_count": 47,
   "metadata": {},
   "outputs": [
    {
     "name": "stdout",
     "output_type": "stream",
     "text": [
      "Writing file `test.txt'\n"
     ]
    }
   ],
   "source": [
    "writefile(\"test.txt\",\"\"\"\n",
    "parfile=\"input.txt\"\n",
    "drawgau-wrapper.txt\n",
    "\"\"\")"
   ]
  },
  {
   "cell_type": "code",
   "execution_count": 48,
   "metadata": {},
   "outputs": [
    {
     "name": "stdout",
     "output_type": "stream",
     "text": [
      "\u001b[1;0mSuccessfully created folder agave-deployment\u001b[0m\n",
      "Uploading test.txt...\n",
      "######################################################################## 100.0%\n"
     ]
    }
   ],
   "source": [
    "!files-mkdir -S ${STORAGE_MACHINE} -N ${DEPLOYMENT_PATH}\n",
    "!files-upload -F test.txt -S ${STORAGE_MACHINE} ${DEPLOYMENT_PATH}/"
   ]
  },
  {
   "cell_type": "markdown",
   "metadata": {},
   "source": [
    "#### The Application Description\n",
    "This tells Agave what it needs to know\n",
    "about the application in order to run it."
   ]
  },
  {
   "cell_type": "code",
   "execution_count": 49,
   "metadata": {},
   "outputs": [
    {
     "name": "stdout",
     "output_type": "stream",
     "text": [
      "Writing file `drawgau-shelob-stevenrbrandt.txt'\n"
     ]
    }
   ],
   "source": [
    "writefile(\"${APP_NAME}.txt\",\"\"\"\n",
    "{  \n",
    "   \"name\":\"${APP_NAME}\",\n",
    "   \"version\":\"1.0\",\n",
    "   \"label\":\"Draw Gaussian Curve\",\n",
    "   \"shortDescription\":\"Just draws a Gaussian\",\n",
    "   \"longDescription\":\"\",\n",
    "   \"deploymentSystem\":\"${STORAGE_MACHINE}\",\n",
    "   \"deploymentPath\":\"${DEPLOYMENT_PATH}\",\n",
    "   \"templatePath\":\"drawgau-wrapper.txt\",\n",
    "   \"testPath\":\"test.txt\",\n",
    "   \"executionSystem\":\"${EXEC_MACHINE}\",\n",
    "   \"executionType\":\"HPC\",\n",
    "   \"parallelism\":\"SERIAL\",\n",
    "   \"allocation\":\"${ALLOCATION}\",\n",
    "   \"modules\":[],\n",
    "   \"inputs\":[\n",
    "         {   \n",
    "         \"id\":\"parfile\",\n",
    "         \"details\":{  \n",
    "            \"label\":\"Draw Gau Parameter File: \",\n",
    "            \"description\":\"\",\n",
    "            \"argument\":null,\n",
    "            \"showArgument\":false\n",
    "         },\n",
    "         \"value\":{  \n",
    "            \"default\":\"testInput.txt\",\n",
    "            \"order\":0,\n",
    "            \"required\":true,\n",
    "            \"validator\":\"\",\n",
    "            \"visible\":true\n",
    "         }\n",
    "      }   \n",
    "\n",
    "   ],\n",
    "   \"parameters\":[],\n",
    "   \"outputs\":[  \n",
    "      {  \n",
    "         \"id\":\"Output\",\n",
    "         \"details\":{  \n",
    "            \"description\":\"The output\",\n",
    "            \"label\":\"x y file\"\n",
    "         },\n",
    "         \"value\":{  \n",
    "            \"default\":\"drawgau.txt\",\n",
    "            \"validator\":\"\"\n",
    "         }\n",
    "      }\n",
    "   ]\n",
    "}\n",
    "\"\"\")"
   ]
  },
  {
   "cell_type": "code",
   "execution_count": 50,
   "metadata": {},
   "outputs": [
    {
     "name": "stdout",
     "output_type": "stream",
     "text": [
      "\u001b[1;0m\u001b[1;0mSuccessfully added app drawgau-shelob-stevenrbrandt-1.0\u001b[0m\u001b[0m\r\n"
     ]
    }
   ],
   "source": [
    "!apps-addupdate -F ${APP_NAME}.txt"
   ]
  },
  {
   "cell_type": "markdown",
   "metadata": {},
   "source": [
    "#### The Application Itself\n",
    "Typically, your application will be some Fortran or C/C++ executable that you compile and run on the remote machine.\n",
    "The example for this tutorial is drawgau, a C++ program that uses MPI and does nothing but draw a Guassian curve\n",
    "(i.e. it writes out a file with x-y pairs that matplot lib can use to display a Gaussian)."
   ]
  },
  {
   "cell_type": "code",
   "execution_count": 51,
   "metadata": {},
   "outputs": [
    {
     "name": "stdout",
     "output_type": "stream",
     "text": [
      "Writing file `drawgau.cpp'\n"
     ]
    }
   ],
   "source": [
    "writefile(\"drawgau.cpp\",\"\"\"\n",
    "#include <mpi.h>\n",
    "#include <iostream>\n",
    "#include <fstream>\n",
    "#include <sstream>\n",
    "#include <math.h>\n",
    "#include <stdlib.h>\n",
    "\n",
    "using namespace std;\n",
    "\n",
    "void usage() {\n",
    "  std::cerr << \"usage: drawgau input.txt\" << std::endl;\n",
    "  exit(1);\n",
    "}\n",
    "\n",
    "int main(int argc, char **argv) {\n",
    "  if(argc != 2)\n",
    "    usage();\n",
    "  ifstream i(argv[1]);\n",
    "\n",
    "  if(!i.good())\n",
    "    usage();\n",
    "\n",
    "  MPI_Init(&argc,&argv);\n",
    "  int rank,size;\n",
    "  MPI_Comm_rank(MPI_COMM_WORLD,&rank);\n",
    "  MPI_Comm_size(MPI_COMM_WORLD,&size);\n",
    "\n",
    "  double minx, maxx, delx;\n",
    "  i >> minx >> maxx >> delx;\n",
    "  if(rank == 0) {\n",
    "    cout << \"minx=\" << minx << endl;\n",
    "    cout << \"maxx=\" << maxx << endl;\n",
    "    cout << \"delx=\" << delx << endl;\n",
    "    cout << \"mpi size=\" << size << endl;\n",
    "  }\n",
    "\n",
    "  stringstream s;\n",
    "  s << \"drawgau\" << rank << \".txt\";\n",
    "  string fname = s.str();\n",
    "  cout << \"FILE: \" << fname << endl;\n",
    "  ofstream f(fname,ofstream::out);\n",
    "  double delxp = (maxx - minx)/size;\n",
    "  double minxp = minx+delxp*rank;\n",
    "  double maxxp = minxp + delxp;\n",
    "  cout << \"rank=\" << rank << \" minxp=\" << minxp << \" maxxp=\" << maxxp << endl;\n",
    "  for(double x = minxp; x < maxxp; x += delx) {\n",
    "    f << x << \" \" << exp(-x*x) << endl;\n",
    "  }\n",
    "  f.close();\n",
    "  MPI_Finalize();\n",
    "  return 0;\n",
    "}\n",
    "\"\"\")"
   ]
  },
  {
   "cell_type": "markdown",
   "metadata": {},
   "source": [
    "#### A Script to Build the Application"
   ]
  },
  {
   "cell_type": "code",
   "execution_count": 52,
   "metadata": {},
   "outputs": [
    {
     "name": "stdout",
     "output_type": "stream",
     "text": [
      "Writing file `build.sh'\n"
     ]
    }
   ],
   "source": [
    "writefile(\"build.sh\",\"\"\"\n",
    "#!/bin/bash\n",
    "set -x\n",
    "cd ~/drawgau\n",
    "mpicxx -std=c++11 -o drawgau drawgau.cpp\n",
    "\"\"\")"
   ]
  },
  {
   "cell_type": "code",
   "execution_count": 54,
   "metadata": {},
   "outputs": [
    {
     "name": "stdout",
     "output_type": "stream",
     "text": [
      "\u001b[1;0mSuccessfully created folder drawgau\u001b[0m\n",
      "Uploading drawgau.cpp...\n",
      "######################################################################## 100.0%\n",
      "Uploading build.sh...\n",
      "######################################################################## 100.0%\n",
      "Uploading input.txt...\n",
      "######################################################################## 100.0%\n",
      "+ cd /home/sbrandt/drawgau\n",
      "+ mpicxx -std=c++11 -o drawgau drawgau.cpp\n"
     ]
    }
   ],
   "source": [
    "# These commands upload the source code, and the build command, then they\n",
    "# execute the build command.\n",
    "!files-mkdir -S ${STORAGE_MACHINE} -N drawgau\n",
    "!files-upload -F drawgau.cpp -S ${STORAGE_MACHINE} drawgau/\n",
    "!files-upload -F build.sh -S ${STORAGE_MACHINE} drawgau/\n",
    "!ssh -o \"IdentityFile=${MACH}-key\" ${MACHINE_USERNAME}@${MACHINE} -p ${PORT} bash --login ./drawgau/build.sh"
   ]
  },
  {
   "cell_type": "markdown",
   "metadata": {},
   "source": [
    "## Run Every Time"
   ]
  },
  {
   "cell_type": "code",
   "execution_count": 27,
   "metadata": {},
   "outputs": [
    {
     "name": "stdout",
     "output_type": "stream",
     "text": [
      "\u001b[1;0mToken for agave.prod:stevenrbrandt successfully refreshed and cached for 14400 seconds\r\n",
      "2d3548f5865490a333cca7dee8f631\u001b[0m\r\n"
     ]
    }
   ],
   "source": [
    "!auth-tokens-refresh"
   ]
  },
  {
   "cell_type": "markdown",
   "metadata": {},
   "source": [
    "### The input parameter file"
   ]
  },
  {
   "cell_type": "code",
   "execution_count": 53,
   "metadata": {},
   "outputs": [
    {
     "name": "stdout",
     "output_type": "stream",
     "text": [
      "Writing file `input.txt'\n"
     ]
    }
   ],
   "source": [
    "# Define the minumum, maximum, and step size.\n",
    "writefile(\"input.txt\",\"-1 1 .01\")\n",
    "!files-upload -F input.txt -S ${STORAGE_MACHINE} drawgau/"
   ]
  },
  {
   "cell_type": "markdown",
   "metadata": {},
   "source": [
    "### Running Jobs\n",
    "We'll do this two ways. First, the command line.\n",
    "To start, we must make a json descriptor for the job we want to run.\n",
    "Other notification tags besides FINISHED and FAILED include PENDING, PROCESSING_INPUTS, STAGING_INPUTS, STAGED,\n",
    "SUBMITTING, QUEUED, and RUNNING"
   ]
  },
  {
   "cell_type": "code",
   "execution_count": 55,
   "metadata": {},
   "outputs": [
    {
     "name": "stdout",
     "output_type": "stream",
     "text": [
      "Writing file `job.txt'\n"
     ]
    }
   ],
   "source": [
    "# You can adjust text below to change the job name, the process count, the notifications, etc.\n",
    "writefile(\"job.txt\",\"\"\"\n",
    "{\n",
    "  \"name\":\"test-jobc-1\",\n",
    "  \"appId\": \"${APP_NAME}-1.0\",\n",
    "  \"executionSystem\": \"${EXEC_MACHINE}\",\n",
    "  \"batchQueue\": \"${QUEUE}\",\n",
    "  \"maxRunTime\": \"${MAX_TIME}\",\n",
    "  \"nodeCount\": 2,\n",
    "  \"processorsPerNode\": 2,\n",
    "  \"archive\": false,\n",
    "  \"archiveSystem\": \"${STORAGE_MACHINE}\",\n",
    "  \"inputs\": {\n",
    "    \"parfile\": \"agave://${STORAGE_MACHINE}/${HOME_DIR}/drawgau/input.txt\"\n",
    "  },\n",
    "  \"parameters\": {\n",
    "  },\n",
    "  \"notifications\": [\n",
    "    {\n",
    "      \"url\":\"${EMAIL}\",\n",
    "      \"event\":\"FINISHED\",\n",
    "      \"persistent\":false\n",
    "    },\n",
    "    {\n",
    "      \"url\":\"${EMAIL}\",\n",
    "      \"event\":\"FAILED\",\n",
    "      \"persistent\":false\n",
    "    }\n",
    "  ]\n",
    "}\n",
    "\"\"\")"
   ]
  },
  {
   "cell_type": "code",
   "execution_count": 56,
   "metadata": {},
   "outputs": [
    {
     "name": "stdout",
     "output_type": "stream",
     "text": [
      "OUTPUT=Successfully submitted job 5035698656793914905-242ac11b-0001-007\n",
      "JOB_ID=5035698656793914905-242ac11b-0001-007\n"
     ]
    }
   ],
   "source": [
    "# Submit a job with jobs-submit. Capture the output\n",
    "# and use the job id for the next several commands.\n",
    "setvar(\"\"\"\n",
    "# Capture the output of the job submit command\n",
    "OUTPUT=$(jobs-submit -F job.txt)\n",
    "# Parse out the job id from the output\n",
    "JOB_ID=$(echo $OUTPUT | cut -d' ' -f4)\n",
    "\"\"\")"
   ]
  },
  {
   "cell_type": "code",
   "execution_count": 59,
   "metadata": {},
   "outputs": [
    {
     "name": "stdout",
     "output_type": "stream",
     "text": [
      "STAT=QUEUED\n",
      "STAT=QUEUED\n",
      "STAT=QUEUED\n",
      "STAT=QUEUED\n",
      "STAT=QUEUED\n",
      "STAT=QUEUED\n",
      "STAT=QUEUED\n",
      "STAT=FINISHED\n"
     ]
    }
   ],
   "source": [
    "# Watch to see when the job is submitted.\n",
    "# Interrupt it if you feel it is taking too\n",
    "# long or is stuck.\n",
    "from time import sleep\n",
    "for iter in range(20):\n",
    "    setvar(\"STAT=$(jobs-status $JOB_ID)\")\n",
    "    stat = os.environ[\"STAT\"]\n",
    "    sleep(5.0)\n",
    "    if stat == \"FINISHED\" or stat == \"FAILED\":\n",
    "        break"
   ]
  },
  {
   "cell_type": "code",
   "execution_count": 60,
   "metadata": {},
   "outputs": [
    {
     "name": "stdout",
     "output_type": "stream",
     "text": [
      "jobs-history 5035698656793914905-242ac11b-0001-007\n",
      "\u001b[1;0mJob accepted and queued for submission.\n",
      "Attempt 1 to stage job inputs\n",
      "Identifying input files for staging\n",
      "Copy in progress\n",
      "Job inputs staged to execution system\n",
      "Preparing job for submission.\n",
      "Attempt 1 to submit job\n",
      "Fetching app assets from agave://shelob-storage-stevenrbrandt/agave-deployment\n",
      "Staging runtime assets to agave://shelob-exec-stevenrbrandt//work/sbrandt/stevenrbrandt/job-5035698656793914905-242ac11b-0001-007-test-jobc-1\n",
      "HPC job successfully placed into shelob queue as local job 717659.mike3\n",
      "Job started running\n",
      "Job completed execution\n",
      "Job completed. Skipping archiving at user request.\u001b[0m\n"
     ]
    }
   ],
   "source": [
    "# Check the job history. This may identify problems with the job submission.\n",
    "# Hopefully, there are none.\n",
    "!echo jobs-history ${JOB_ID}\n",
    "!jobs-history ${JOB_ID}"
   ]
  },
  {
   "cell_type": "code",
   "execution_count": 101,
   "metadata": {},
   "outputs": [
    {
     "name": "stdout",
     "output_type": "stream",
     "text": [
      "\u001b[1;0m5035698656793914905-242ac11b-0001-007 FINISHED\r\n",
      "4293407091102388711-242ac11b-0001-007 FINISHED\r\n",
      "5943132062838156825-242ac11b-0001-007 SUBMITTING\r\n",
      "6586478516845154791-242ac11b-0001-007 SUBMITTING\r\n",
      "7725004665464951271-242ac11b-0001-007 SUBMITTING\u001b[0m\r\n"
     ]
    }
   ],
   "source": [
    "# List the past five jobs you have run with Agave,\n",
    "# along with their status.\n",
    "!jobs-list -l 5"
   ]
  },
  {
   "cell_type": "code",
   "execution_count": 62,
   "metadata": {},
   "outputs": [
    {
     "name": "stdout",
     "output_type": "stream",
     "text": [
      "######################################################################## 100.0%\n",
      "#!/bin/bash\n",
      "#PBS -N test-jobc-1\n",
      "#PBS -o test-jobc-1-5035698656793914905-242ac11b-0001-007.out\n",
      "#PBS -e test-jobc-1-5035698656793914905-242ac11b-0001-007.err\n",
      "#PBS -A hpc_hyrel17\n",
      "#PBS -l cput=72:00:00\n",
      "#PBS -l walltime=72:00:00\n",
      "#PBS -q shelob\n",
      "#PBS -l nodes=2:ppn=16\n",
      "\n",
      "##########################################################\n",
      "# Agave Environment Settings \n",
      "##########################################################\n",
      "\n",
      "# Ensure we're in the job work directory \n",
      "cd /work/sbrandt/stevenrbrandt/job-5035698656793914905-242ac11b-0001-007-test-jobc-1\n",
      "\n",
      "# Location of agave job lifecycle log file \n",
      "AGAVE_LOG_FILE=/work/sbrandt/stevenrbrandt/job-5035698656793914905-242ac11b-0001-007-test-jobc-1/.agave.log\n",
      "\n",
      "\n",
      "##########################################################\n",
      "# Agave Utility functions \n",
      "##########################################################\n",
      "\n",
      "# cross-plaltform function to print an ISO8601 formatted timestamp \n",
      "function agave_datetime_iso() { \n",
      "  date '+%Y-%m-%dT%H:%M:%S%z'; \n",
      "} \n",
      "\n",
      "# standard logging function to write agave job lifecycle logs\n",
      "function agave_log_response() { \n",
      "  echo \"[$(agave_datetime_iso)] ${@}\"; \n",
      "} 2>&1 >> \"${AGAVE_LOG_FILE}\"\n",
      "\n",
      "# Callback to signal the job has started executing user-defined logic\n",
      "agave_log_response $(curl -sSk \"https://public.agaveapi.co/jobs/v2/trigger/job/5035698656793914905-242ac11b-0001-007/token/81c6f054-c5e8-4d3d-8f1a-26b3bae89a07/status/RUNNING?filter=id,status\" 2>&1) \n",
      "\n",
      "\n",
      "##########################################################\n",
      "# Agave App and System Environment Settings \n",
      "##########################################################\n",
      "\n",
      "# No modules commands configured for this app\n",
      "\n",
      "# No custom environment variables configured for this app\n",
      "\n",
      "\n",
      "##########################################################\n",
      "# Begin App Wrapper Template Logic \n",
      "##########################################################\n",
      "\n",
      "#!/bin/bash\n",
      "echo 'Executing Draw Gau Code'\n",
      "# Setting the x flag will echo every\n",
      "# command onto stderr. This is\n",
      "# for debugging, so we can see what's\n",
      "# going on.\n",
      "set -x\n",
      "echo ==ENV=============\n",
      "# The env command prints out the\n",
      "# entire execution environment. This\n",
      "# is also present for debugging purposes.\n",
      "env\n",
      "echo ==PWD=============\n",
      "# We also print out the execution\n",
      "# directory. Again, for debugging purposes.\n",
      "pwd\n",
      "echo ==JOB=============\n",
      "EXE_DIR=/home/sbrandt/drawgau\n",
      "# input.txt will be substituted by Agave\n",
      "# I like having my environment variables in\n",
      "# upper case, that's the only reason for this\n",
      "# assignment.\n",
      "FAIL=no\n",
      "if [ \"input.txt\" = \"\" ]\n",
      "then\n",
      "  echo \"The parfile was not set\"\n",
      "  # Note: Job failure must be explicitly reported to\n",
      "  # the Agave framework, otherwise it might\n",
      "  # mistakenly believe the job is still running.\n",
      "  $(agave_log_response $(curl -sSk \"https://public.agaveapi.co/jobs/v2/trigger/job/5035698656793914905-242ac11b-0001-007/token/81c6f054-c5e8-4d3d-8f1a-26b3bae89a07/status/FAILED?filter=id,status\" 2>&1) \n",
      "\n",
      "\n",
      ")\n",
      "  exit 1\n",
      "fi\n",
      "if [ \"${PBS_NODEFILE}\" = \"\" ]\n",
      "then\n",
      "  # When running on a system managed by Torque\n",
      "  # this variable should be set. If it's not,\n",
      "  # that's a problem.\n",
      "  echo \"The PBS_NODEFILE was not set\"\n",
      "  $(agave_log_response $(curl -sSk \"https://public.agaveapi.co/jobs/v2/trigger/job/5035698656793914905-242ac11b-0001-007/token/81c6f054-c5e8-4d3d-8f1a-26b3bae89a07/status/FAILED?filter=id,status\" 2>&1) \n",
      "\n",
      "\n",
      ")\n",
      "  exit 2\n",
      "fi\n",
      "\n",
      "# By default, the PBS_NODEFILE lists nodes multiple\n",
      "# times, once for each MPI process that should run\n",
      "# there. We only want one MPI process per node, so\n",
      "# we create a new file with \"sort -u\".\n",
      "LOCAL_NODEFILE=nodefile.txt\n",
      "sort -u < ${PBS_NODEFILE} > ${LOCAL_NODEFILE}\n",
      "PROCS=$(wc -l < ${LOCAL_NODEFILE})\n",
      "\n",
      "if [ \"${PROCS}\" = \"\" ]\n",
      "then\n",
      "  echo \"PROCS was not set\"\n",
      "  $(agave_log_response $(curl -sSk \"https://public.agaveapi.co/jobs/v2/trigger/job/5035698656793914905-242ac11b-0001-007/token/81c6f054-c5e8-4d3d-8f1a-26b3bae89a07/status/FAILED?filter=id,status\" 2>&1) \n",
      "\n",
      "\n",
      ")\n",
      "  exit 3\n",
      "fi\n",
      "\n",
      "# Execute our MPI command.\n",
      "mpirun -np ${PROCS} -machinefile ${LOCAL_NODEFILE} ${EXE_DIR}/drawgau input.txt\n",
      "\n",
      "\n",
      "##########################################################\n",
      "# End App Wrapper Template Logic \n",
      "##########################################################\n",
      "\n",
      "# Callback to signal the job has completed all user-defined logic\n",
      "agave_log_response $(curl -sSk \"https://public.agaveapi.co/jobs/v2/trigger/job/5035698656793914905-242ac11b-0001-007/token/81c6f054-c5e8-4d3d-8f1a-26b3bae89a07/status/CLEANING_UP?filter=id,status\" 2>&1) \n",
      "\n",
      "\n"
     ]
    }
   ],
   "source": [
    "# Fetch the submission script generated by Agave.\n",
    "# You don't need to do this, but it is another place\n",
    "# to look for problems (along with the history) if\n",
    "# something went wrong.\n",
    "!jobs-output-get ${JOB_ID} test-jobc-1.ipcexe\n",
    "!cat test-jobc-1.ipcexe"
   ]
  },
  {
   "cell_type": "code",
   "execution_count": 84,
   "metadata": {},
   "outputs": [
    {
     "name": "stdout",
     "output_type": "stream",
     "text": [
      "######################################################################## 100.0%\n",
      "--------------------------------------\n",
      "Running PBS prologue script\n",
      "--------------------------------------\n",
      "User and Job Data:\n",
      "--------------------------------------\n",
      "Job ID:    717659.mike3\n",
      "Username:  sbrandt\n",
      "Group:     Admins\n",
      "Date:      10-Aug-2017 10:52\n",
      "Node:      shelob001 (10927)\n",
      "--------------------------------------\n",
      "PBS has allocated the following nodes:\n",
      "\n",
      "shelob001\n",
      "shelob002\n",
      "\n",
      "A total of 32 processors on 2 nodes allocated\n",
      "---------------------------------------------\n",
      "Check nodes and clean them of stray processes\n",
      "---------------------------------------------\n",
      "Checking node shelob001 10:52:37 \n",
      "Checking node shelob002 10:52:39 \n",
      "Done clearing all the allocated nodes\n",
      "------------------------------------------------------\n",
      "Concluding PBS prologue script - 10-Aug-2017 10:52:39\n",
      "------------------------------------------------------\n",
      "Executing Draw Gau Code\n",
      "==ENV=============\n",
      "MXM_LOG_LEVEL=fatal\n",
      "MKLROOT=/usr/local/compilers/Intel/composer_xe_2013.0.079/mkl\n",
      "MANPATH=/usr/local/compilers/GNU/gcc-4.7.2/man:/usr/local/compilers/Intel/composer_xe_2013.0.079/man/en_US:/usr/local/packages/openmpi/1.6.2/Intel-13.0.0/man:/usr/X11R6/man:/usr/share/man:/usr/share/locale/en/man:/usr/bin/man:/usr/local/share/man:/usr/local/man:/usr/local/packages/softenv/man\n",
      "GCC_HOME=/usr/local/compilers/GNU/gcc-4.7.2\n",
      "HOSTNAME=shelob001\n",
      "PBS_VERSION=TORQUE-3.0.6\n",
      "INTEL_LICENSE_FILE=/usr/local/compilers/Intel:/usr/local/compilers/Intel/intel_fc_10.1/licenses:/usr/local/compilers/Intel/composer_xe_2013.0.079/licenses:/opt/intel/licenses\n",
      "SHELL=/bin/bash\n",
      "HISTSIZE=1000\n",
      "PBS_JOBNAME=test-jobc-1\n",
      "LIBRARY_PATH=/usr/local/compilers/Intel/composer_xe_2013.0.079/compiler/lib/intel64:/usr/local/compilers/Intel/composer_xe_2013.0.079/mkl/lib/intel64\n",
      "PERL5LIB=/home/sbrandt/cpan-local/lib64/perl5\n",
      "PBS_ENVIRONMENT=PBS_BATCH\n",
      "OLDPWD=/home/sbrandt\n",
      "QTDIR=/usr/lib64/qt-3.3\n",
      "LANGUAGE_TERRITORY=en_US\n",
      "QTINC=/usr/lib64/qt-3.3/include\n",
      "PBS_O_WORKDIR=/work/sbrandt/stevenrbrandt/job-5035698656793914905-242ac11b-0001-007-test-jobc-1\n",
      "MIC_LD_LIBRARY_PATH=/usr/local/compilers/Intel/composer_xe_2013.0.079/compiler/lib/mic:/opt/intel/mic/coi/device-linux-release/lib:/opt/intel/mic/myo/lib:/usr/local/compilers/Intel/composer_xe_2013.0.079/mkl/lib/mic\n",
      "INCLUDE_PATH=/usr/local/compilers/Intel/composer_xe_2013.0.079/mkl/include\n",
      "openmpi_HOME=/usr/local/packages/openmpi/1.6.2/Intel-13.0.0\n",
      "USER=sbrandt\n",
      "PBS_TASKNUM=1\n",
      "CUDA_HOME=/usr/local/packages/cuda/5.5.22\n",
      "LD_LIBRARY_PATH=/home/sbrandt/install/papi/lib:/usr/local/compilers/GNU/gcc-4.7.2/lib64:/usr/local/packages/cuda/5.5.22/lib64:/usr/local/packages/cuda/5.5.22/lib:/usr/local/compilers/Intel/composer_xe_2013.0.079/compiler/lib/intel64:/usr/local/compilers/Intel/composer_xe_2013.0.079/mkl/lib/intel64:/usr/local/packages/openmpi/1.6.2/Intel-13.0.0/lib:/usr/local/packages/openmpi/1.6.2/Intel-13.0.0/lib64\n",
      "PBS_O_HOME=/home/sbrandt\n",
      "CPATH=/usr/local/compilers/Intel/composer_xe_2013.0.079/mkl/include:/usr/local/compilers/Intel/composer_xe_2013.0.079/tbb/include\n",
      "PBS_WALLTIME=259200\n",
      "PBS_MOMPORT=15003\n",
      "PBS_GPUFILE=/var/spool/torque/aux//717659.mike3gpu\n",
      "PBS_O_QUEUE=shelob\n",
      "PGI=/usr/local/compilers/pgi\n",
      "NLSPATH=/usr/local/compilers/Intel/composer_xe_2013.0.079/compiler/lib/intel64/locale/en_US:/usr/local/compilers/Intel/composer_xe_2013.0.079/mkl/lib/intel64/locale/en_US\n",
      "PBS_O_LOGNAME=sbrandt\n",
      "MAIL=/var/spool/mail/sbrandt\n",
      "PATH=/home/sbrandt/install/hpcviewer/bin:/home/sbrandt/install/papi:/home/sbrandt/install/perfexpert:/home/sbrandt/install/hpctoolkit-externals/bin:/home/sbrandt/install/hpctoolkit/bin:/home/sbrandt/bin:/home/sbrandt/install/ant/bin:/usr/lib64/qt-3.3/bin:/usr/local/compilers/GNU/gcc-4.7.2/bin:/usr/local/packages/cuda/5.5.22/bin:/usr/local/compilers/Intel/composer_xe_2013.0.079/bin/intel64:/usr/local/packages/openmpi/1.6.2/Intel-13.0.0/bin:/usr/local/packages/openmpi/1.6.2/Intel-13.0.0/sbin:/bin:/usr/bin:/sbin:/usr/sbin:/usr/local/bin:/usr/local/sbin:/usr/X11R6/bin:/usr/local/packages/softenv/bin:/home/sbrandt/bin:/usr/local/packages/license/mathematica/11.0/bin:/opt/ibutils/bin:.:/home/sbrandt/bin\n",
      "PBS_O_LANG=en_US.UTF-8\n",
      "PBS_JOBCOOKIE=0B5A8F5FA92AFE74C2EE41621A3C4001\n",
      "CUDA_NIC_INTEROP=1\n",
      "SOFTENV_ALIASES=/usr/local/packages/softenv-1.6.2/etc/softenv-aliases.sh\n",
      "PWD=/work/sbrandt/stevenrbrandt/job-5035698656793914905-242ac11b-0001-007-test-jobc-1\n",
      "LANG=en_US.UTF-8\n",
      "PBS_NODENUM=0\n",
      "MOABHOMEDIR=/usr/moab\n",
      "WHATAMI=Linux\n",
      "PBS_NUM_NODES=2\n",
      "PBS_O_SHELL=/bin/bash\n",
      "PBS_SERVER=mike3\n",
      "PLATFORM=Linux\n",
      "PBS_JOBID=717659.mike3\n",
      "ENVIRONMENT=BATCH\n",
      "HISTCONTROL=ignoredups\n",
      "SSH_ASKPASS=/usr/libexec/openssh/gnome-ssh-askpass\n",
      "SOFTENV_LOAD=/usr/local/packages/softenv-1.6.2/etc/softenv-load.sh\n",
      "FMODULE_PATH=/usr/local/compilers/Intel/composer_xe_2013.0.079/mkl/include/intel64/lp64\n",
      "HOME=/home/sbrandt\n",
      "SHLVL=2\n",
      "LD_INCLUDE_PATH=/usr/local/compilers/GNU/gcc-4.7.2/include:/usr/local/packages/cuda/5.5.22/include:/usr/local/packages/openmpi/1.6.2/Intel-13.0.0/include\n",
      "SOFT_ORDER=2\n",
      "PERFEXPERT_HPCTOOLKIT_HOME=/home/sbrandt/install/hpctoolkit\n",
      "PBS_O_HOST=shelob1\n",
      "PBS_VNODENUM=0\n",
      "LOGNAME=sbrandt\n",
      "CVS_RSH=ssh\n",
      "QTLIB=/usr/lib64/qt-3.3/lib\n",
      "VISUAL=vim\n",
      "PBS_QUEUE=shelob\n",
      "PBS_O_MAIL=/var/spool/mail/sbrandt\n",
      "MXM_SHM_RX_MAX_BUFFERS=32768\n",
      "OMP_NUM_THREADS=1\n",
      "LESSOPEN=||/usr/bin/lesspipe.sh %s\n",
      "ARCH=Linux\n",
      "PROMPT_COMMAND=printf \"\\033]0;%s\\007\" \"${HOSTNAME}\" \n",
      "PBS_NP=32\n",
      "PBS_NUM_PPN=16\n",
      "PBS_NODEFILE=/var/spool/torque/aux//717659.mike3\n",
      "G_BROKEN_FILENAMES=1\n",
      "PBS_O_PATH=/home/sbrandt/install/hpcviewer/bin:/home/sbrandt/install/papi:/home/sbrandt/install/perfexpert:/home/sbrandt/install/hpctoolkit-externals/bin:/home/sbrandt/install/hpctoolkit/bin:/home/sbrandt/bin:/home/sbrandt/install/ant/bin:/usr/lib64/qt-3.3/bin:/usr/local/compilers/GNU/gcc-4.7.2/bin:/usr/local/packages/cuda/5.5.22/bin:/usr/local/compilers/Intel/composer_xe_2013.0.079/bin/intel64:/usr/local/packages/openmpi/1.6.2/Intel-13.0.0/bin:/usr/local/packages/openmpi/1.6.2/Intel-13.0.0/sbin:/bin:/usr/bin:/sbin:/usr/sbin:/usr/local/bin:/usr/local/sbin:/usr/X11R6/bin:/usr/local/packages/softenv/bin:/home/sbrandt/bin:/usr/local/packages/license/mathematica/11.0/bin:/opt/ibutils/bin:.:/home/sbrandt/bin\n",
      "_=/bin/env\n",
      "==PWD=============\n",
      "/work/sbrandt/stevenrbrandt/job-5035698656793914905-242ac11b-0001-007-test-jobc-1\n",
      "==JOB=============\n",
      "minx=-1\n",
      "maxx=1\n",
      "delx=0.01\n",
      "mpi size=2\n",
      "FILE: drawgau0.txt\n",
      "rank=0 minxp=-1 maxxp=0\n",
      "FILE: drawgau1.txt\n",
      "rank=1 minxp=0 maxxp=1\n",
      "++ agave_datetime_iso\n",
      "++ date +%Y-%m-%dT%H:%M:%S%z\n",
      "+ echo '[2017-08-10T10:52:40-0500] {\"status\":\"success\",\"message\":null,\"version\":\"2.2.4-dev-r942a307\",\"result\":{\"id\":\"5035698656793914905-242ac11b-0001-007\",\"status\":\"FINISHED\"}}'\n",
      "------------------------------------------------------\n",
      "Running PBS epilogue script    - 10-Aug-2017 10:52:41\n",
      "------------------------------------------------------\n",
      "Checking node shelob001 (MS)\n",
      "Checking node shelob002 ok\n",
      "Checking node shelob001 ok\n",
      "------------------------------------------------------\n",
      "Concluding PBS epilogue script - 10-Aug-2017 10:52:45\n",
      "------------------------------------------------------\n",
      "Exit Status:     0\n",
      "Job ID:          717659.mike3\n",
      "Username:        sbrandt\n",
      "Group:           Admins\n",
      "Job Name:        test-jobc-1\n",
      "Session Id:      10926\n",
      "Resource Limits: ncpus=1,neednodes=2:ppn=16,nodes=2:ppn=16,walltime=72:00:00\n",
      "Resources Used:  cput=00:00:00,mem=604kb,vmem=13500kb,walltime=00:00:05\n",
      "Queue Used:      shelob\n",
      "Account String:  hpc_hyrel17\n",
      "Node:            shelob001\n",
      "Process id:      11557\n",
      "------------------------------------------------------\n"
     ]
    }
   ],
   "source": [
    "# Fetch the standard output of the job you just ran. By changing\n",
    "# the last three characters in the file name\n",
    "# from \"out\" to \"err\" you can fetch the standard error output.\n",
    "!jobs-output-get ${JOB_ID} test-jobc-1-${JOB_ID}.out\n",
    "!cat test-jobc-1-${JOB_ID}.out"
   ]
  },
  {
   "cell_type": "code",
   "execution_count": 86,
   "metadata": {},
   "outputs": [
    {
     "name": "stdout",
     "output_type": "stream",
     "text": [
      "######################################################################## 100.0%\n",
      "######################################################################## 100.0%\n",
      "-0.1 0.99005\n",
      "-0.09 0.991933\n",
      "-0.08 0.99362\n",
      "-0.07 0.995112\n",
      "-0.06 0.996406\n",
      "-0.05 0.997503\n",
      "-0.04 0.998401\n",
      "-0.03 0.9991\n",
      "-0.02 0.9996\n",
      "-0.01 0.9999\n"
     ]
    }
   ],
   "source": [
    "# Most importantly, you can fetch the data files\n",
    "# generated by your job. In this case there are\n",
    "# two of them.\n",
    "!jobs-output-get ${JOB_ID} drawgau0.txt\n",
    "!jobs-output-get ${JOB_ID} drawgau1.txt\n",
    "!cat drawgau0.txt | tail -10"
   ]
  },
  {
   "cell_type": "code",
   "execution_count": 65,
   "metadata": {
    "collapsed": true
   },
   "outputs": [],
   "source": [
    "# This cell enables inline plotting in the notebook\n",
    "%matplotlib inline\n",
    "\n",
    "import matplotlib\n",
    "import numpy as np\n",
    "import matplotlib.pyplot as plt"
   ]
  },
  {
   "cell_type": "code",
   "execution_count": 87,
   "metadata": {},
   "outputs": [
    {
     "data": {
      "image/png": "[encoded data removed]",
      "text/plain": [
       "<matplotlib.figure.Figure at 0x7fbc0baadef0>"
      ]
     },
     "metadata": {},
     "output_type": "display_data"
    }
   ],
   "source": [
    "# Load ascii data from a file\n",
    "data0 = np.genfromtxt(\"drawgau0.txt\")\n",
    "data1 = np.genfromtxt(\"drawgau1.txt\")\n",
    "# Plot!\n",
    "plt.figure()\n",
    "plt.plot(data0[:,0],data0[:,1])\n",
    "plt.plot(data1[:,0],data1[:,1])\n",
    "plt.show()"
   ]
  },
  {
   "cell_type": "markdown",
   "metadata": {},
   "source": [
    "### Sharing Jobs, Files, and Applications"
   ]
  },
  {
   "cell_type": "code",
   "execution_count": 88,
   "metadata": {},
   "outputs": [
    {
     "name": "stdout",
     "output_type": "stream",
     "text": [
      "\u001b[1;0mstevenrbrandt READ WRITE \u001b[0m\r\n"
     ]
    }
   ],
   "source": [
    "# By default, only you can see your jobs and job data\n",
    "!jobs-pems-list ${JOB_ID}"
   ]
  },
  {
   "cell_type": "code",
   "execution_count": 89,
   "metadata": {},
   "outputs": [
    {
     "name": "stdout",
     "output_type": "stream",
     "text": [
      "\u001b[1;0mSuccessfully updated permission for ktraxler\u001b[0m\r\n"
     ]
    }
   ],
   "source": [
    "# permissions: READ, WRITE, READ_WRITE, ALL, NONE\n",
    "!jobs-pems-update -u ktraxler -p READ ${JOB_ID}"
   ]
  },
  {
   "cell_type": "code",
   "execution_count": 90,
   "metadata": {},
   "outputs": [
    {
     "name": "stdout",
     "output_type": "stream",
     "text": [
      "\u001b[1;0mstevenrbrandt READ WRITE \r\n",
      "ktraxler READ \u001b[0m\r\n"
     ]
    }
   ],
   "source": [
    "!jobs-pems-list ${JOB_ID}"
   ]
  },
  {
   "cell_type": "code",
   "execution_count": 91,
   "metadata": {},
   "outputs": [
    {
     "name": "stdout",
     "output_type": "stream",
     "text": [
      "\u001b[1;0mSuccessfully updated permission for ktraxler\u001b[0m\r\n"
     ]
    }
   ],
   "source": [
    "# permissions: READ, WRITE, READ_WRITE, ALL, NONE\n",
    "!jobs-pems-update -u ktraxler -p NONE ${JOB_ID}"
   ]
  },
  {
   "cell_type": "code",
   "execution_count": 92,
   "metadata": {},
   "outputs": [
    {
     "name": "stdout",
     "output_type": "stream",
     "text": [
      "\u001b[1;0mstevenrbrandt READ WRITE \u001b[0m\r\n"
     ]
    }
   ],
   "source": [
    "!jobs-pems-list ${JOB_ID}"
   ]
  },
  {
   "cell_type": "code",
   "execution_count": 93,
   "metadata": {},
   "outputs": [
    {
     "name": "stdout",
     "output_type": "stream",
     "text": [
      "\u001b[1;0mstevenrbrandt READ WRITE EXECUTE \r\n",
      "ktraxler READ EXECUTE \r\n",
      "stevenrbrandt READ WRITE EXECUTE \u001b[0m\r\n"
     ]
    }
   ],
   "source": [
    "!apps-pems-list ${APP_NAME}-1.0"
   ]
  },
  {
   "cell_type": "code",
   "execution_count": 94,
   "metadata": {},
   "outputs": [
    {
     "name": "stdout",
     "output_type": "stream",
     "text": [
      "\u001b[1;0m\u001b[1;0mSuccessfully updated permission for ktraxler\u001b[0m\u001b[0m\r\n"
     ]
    }
   ],
   "source": [
    "# permissions: READ, WRITE, EXECUTE, READ_WRITE, READ_EXECUTE, WRITE_EXECUTE, ALL, and NONE\n",
    "!apps-pems-update -u ktraxler -p READ_EXECUTE ${APP_NAME}-1.0"
   ]
  },
  {
   "cell_type": "code",
   "execution_count": 95,
   "metadata": {},
   "outputs": [
    {
     "name": "stdout",
     "output_type": "stream",
     "text": [
      "\u001b[1;0mstevenrbrandt READ WRITE EXECUTE \r\n",
      "ktraxler READ EXECUTE \r\n",
      "stevenrbrandt READ WRITE EXECUTE \u001b[0m\r\n"
     ]
    }
   ],
   "source": [
    "!apps-pems-list ${APP_NAME}-1.0"
   ]
  },
  {
   "cell_type": "code",
   "execution_count": 96,
   "metadata": {},
   "outputs": [
    {
     "name": "stdout",
     "output_type": "stream",
     "text": [
      "Click the link to submit and run a job\n",
      "https://togo.agaveapi.co/app/#/apps/drawgau-shelob-stevenrbrandt-1.0/run\n"
     ]
    }
   ],
   "source": [
    "!echo Click the link to submit and run a job\n",
    "!echo https://togo.agaveapi.co/app/#/apps/${APP_NAME}-1.0/run"
   ]
  },
  {
   "cell_type": "code",
   "execution_count": null,
   "metadata": {
    "collapsed": true
   },
   "outputs": [],
   "source": []
  }
 ],
 "metadata": {
  "kernelspec": {
   "display_name": "Python 2",
   "language": "python",
   "name": "python2"
  },
  "language_info": {
   "codemirror_mode": {
    "name": "ipython",
    "version": 2
   },
   "file_extension": ".py",
   "mimetype": "text/x-python",
   "name": "python",
   "nbconvert_exporter": "python",
   "pygments_lexer": "ipython2",
   "version": "2.7.13"
  }
 },
 "nbformat": 4,
 "nbformat_minor": 2
}
