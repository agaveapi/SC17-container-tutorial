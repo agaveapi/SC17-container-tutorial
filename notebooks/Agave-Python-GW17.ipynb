{
 "cells": [
  {
   "cell_type": "markdown",
   "metadata": {},
   "source": [
    "Agave on Python"
   ]
  },
  {
   "cell_type": "code",
   "execution_count": 1,
   "metadata": {},
   "outputs": [],
   "source": [
    "!mkdir -p ~/agave"
   ]
  },
  {
   "cell_type": "code",
   "execution_count": 2,
   "metadata": {},
   "outputs": [
    {
     "name": "stdout",
     "output_type": "stream",
     "text": [
      "/home/sbrandt/agave\n"
     ]
    }
   ],
   "source": [
    "%cd ~/agave"
   ]
  },
  {
   "cell_type": "code",
   "execution_count": 3,
   "metadata": {
    "collapsed": true
   },
   "outputs": [],
   "source": [
    "import re\n",
    "import os\n",
    "import sys\n",
    "from setvar import *"
   ]
  },
  {
   "cell_type": "code",
   "execution_count": 4,
   "metadata": {},
   "outputs": [
    {
     "name": "stdout",
     "output_type": "stream",
     "text": [
      "MACHINE=shelob\n",
      "DOMAIN=hpc.lsu.edu\n",
      "EMAIL=sbrandt@cct.lsu.edu\n",
      "AGAVE_USERNAME=stevenrbrandt\n",
      "MACHINE_USERNAME=sbrandt\n",
      "BASE_APP_NAME=drawgau\n",
      "PORT=22\n",
      "ALLOCATION=hpc_hyrel17\n",
      "WORK_DIR=/work/sbrandt\n",
      "HOME_DIR=/home/sbrandt\n",
      "SCRATCH_DIR=/work/sbrandt\n",
      "DEPLOYMENT_PATH=agave-deployment\n",
      "MACHINE_FULL=shelob.hpc.lsu.edu\n",
      "AGAVE_JSON_PARSER=jq\n",
      "PATH=/home/sbrandt/agave/cli/bin:/usr/local/bin/anaconda2/bin:/root/anaconda2/bin:/usr/local/bin/anaconda2/bin:/root/anaconda2/bin:/usr/local/sbin:/usr/local/bin:/sbin:/bin:/usr/sbin:/usr/bin:/root/bin\n"
     ]
    }
   ],
   "source": [
    "setvar(\"\"\"\n",
    "MACHINE=shelob\n",
    "DOMAIN=hpc.lsu.edu\n",
    "EMAIL=sbrandt@cct.lsu.edu\n",
    "AGAVE_USERNAME=stevenrbrandt\n",
    "MACHINE_USERNAME=sbrandt\n",
    "BASE_APP_NAME=drawgau\n",
    "PORT=22\n",
    "ALLOCATION=hpc_hyrel17\n",
    "\n",
    "WORK_DIR=/work/${MACHINE_USERNAME}\n",
    "HOME_DIR=/home/${MACHINE_USERNAME}\n",
    "SCRATCH_DIR=/work/${MACHINE_USERNAME}\n",
    "DEPLOYMENT_PATH=agave-deployment\n",
    "MACHINE_FULL=${MACHINE}.${DOMAIN}\n",
    "AGAVE_JSON_PARSER=jq\n",
    "PATH=$HOME/agave/cli/bin:$PATH\n",
    "\"\"\")"
   ]
  },
  {
   "cell_type": "code",
   "execution_count": 10,
   "metadata": {},
   "outputs": [
    {
     "name": "stdout",
     "output_type": "stream",
     "text": [
      "Password or secret: AGAVE_PASSWD\n",
      "Reading file `AGAVE_PASSWD.txt'\n"
     ]
    }
   ],
   "source": [
    "readpass(\"AGAVE_PASSWD\")"
   ]
  },
  {
   "cell_type": "code",
   "execution_count": 8,
   "metadata": {},
   "outputs": [
    {
     "name": "stdout",
     "output_type": "stream",
     "text": [
      "Password or secret: HPC_PASSWD\n",
      "Reading file `HPC_PASSWD.txt'\n"
     ]
    }
   ],
   "source": [
    "readpass(\"HPC_PASSWD\")"
   ]
  },
  {
   "cell_type": "code",
   "execution_count": 6,
   "metadata": {},
   "outputs": [
    {
     "name": "stdout",
     "output_type": "stream",
     "text": [
      "Password or secret: PBTOK\n",
      "Reading file `PBTOK.txt'\n"
     ]
    }
   ],
   "source": [
    "readpass(\"PBTOK\")"
   ]
  },
  {
   "cell_type": "code",
   "execution_count": 11,
   "metadata": {},
   "outputs": [
    {
     "name": "stdout",
     "output_type": "stream",
     "text": [
      "APP_NAME=drawgau-shelob-stevenrbrandt\n"
     ]
    }
   ],
   "source": [
    "setvar(\"APP_NAME=${BASE_APP_NAME}-${MACHINE}-${AGAVE_USERNAME}\")"
   ]
  },
  {
   "cell_type": "code",
   "execution_count": null,
   "metadata": {},
   "outputs": [],
   "source": [
    "!git clone https://bitbucket.org/agaveapi/cli.git"
   ]
  },
  {
   "cell_type": "code",
   "execution_count": 12,
   "metadata": {},
   "outputs": [
    {
     "name": "stdout",
     "output_type": "stream",
     "text": [
      "\u001b[1;0mYou are now configured to interact with the APIs at https://public.agaveapi.co/\u001b[0m\r\n"
     ]
    }
   ],
   "source": [
    "!tenants-init -t agave.prod"
   ]
  },
  {
   "cell_type": "code",
   "execution_count": 13,
   "metadata": {},
   "outputs": [
    {
     "name": "stdout",
     "output_type": "stream",
     "text": [
      "API password: stty: standard input: Inappropriate ioctl for device\n",
      "stty: standard input: Inappropriate ioctl for device\n",
      "\n",
      "\u001b[1;0mSuccessfully deleted client drawgau-shelob-stevenrbrandt\u001b[0m\n"
     ]
    }
   ],
   "source": [
    "!echo \"$AGAVE_PASSWD\"| clients-delete -u $AGAVE_USERNAME $APP_NAME"
   ]
  },
  {
   "cell_type": "code",
   "execution_count": 14,
   "metadata": {},
   "outputs": [
    {
     "name": "stdout",
     "output_type": "stream",
     "text": [
      "\u001b[1;0mSuccessfully deleted client drawgau-shelob-stevenrbrandt\u001b[0m\r\n"
     ]
    }
   ],
   "source": [
    "!clients-delete -u $AGAVE_USERNAME -p \"$AGAVE_PASSWD\" $APP_NAME"
   ]
  },
  {
   "cell_type": "code",
   "execution_count": 15,
   "metadata": {},
   "outputs": [
    {
     "name": "stdout",
     "output_type": "stream",
     "text": [
      "\u001b[1;0m\u001b[1;0mSuccessfully created client drawgau-shelob-stevenrbrandt\r\n",
      "key: h9LAf9onbxL0ZbrFmm27fWBhSYka \r\n",
      "secret: P6XdMo2naq4IO2wLLrrhr05tsG8a\u001b[0m\u001b[0m\r\n"
     ]
    }
   ],
   "source": [
    "!clients-create -p \"$AGAVE_PASSWD\" -S -N $APP_NAME -u $AGAVE_USERNAME"
   ]
  },
  {
   "cell_type": "code",
   "execution_count": 16,
   "metadata": {},
   "outputs": [
    {
     "name": "stdout",
     "output_type": "stream",
     "text": [
      "\u001b[1;0mToken for agave.prod:stevenrbrandt successfully refreshed and cached for 14400 seconds\r\n",
      "ea7d76846d2b9d165877256dce1f94b\u001b[0m\r\n"
     ]
    }
   ],
   "source": [
    "!auth-tokens-create -u $AGAVE_USERNAME -p \"$AGAVE_PASSWD\""
   ]
  },
  {
   "cell_type": "code",
   "execution_count": 18,
   "metadata": {},
   "outputs": [
    {
     "name": "stdout",
     "output_type": "stream",
     "text": [
      "ssh-rsa AAAAB3NzaC1yc2EAAAADAQABAAABAQCoCP8y1eWAo982Oneb/wwtpBFcuk2cl1FjFkoZ/bhn6Mh+bcpUJMtOSP37pgbuSI0+xT2wOCdN2SUyaEUwvvqSf5N+1Z4otCXvb7LLECop5GHlC21MMozBXL5qn+F2YYz/j57eEs9zzCsDDuB8ETkYFGGuCfswJKTU5Pc0Avh9C+eOXi2U5WEbXPm+AhOpMcPM3t4Uju0hKvxzsSmlf4z3BVVOJ1MehgLe0s+y24DRl8gjz4IAPNPs3gs1o42fOZwS1ZJvjsJI+Uwxi23H1YuZWAbk3mAiCtU4Naza0lHyWTVr5X9MYC5DTcflLiFYEe0Mh8jlx0rPm/T0Q5DYx30H\r\n"
     ]
    }
   ],
   "source": [
    "!ssh-keygen -y -f ${MACHINE}-key -N \"\" < /dev/null"
   ]
  },
  {
   "cell_type": "code",
   "execution_count": 19,
   "metadata": {},
   "outputs": [],
   "source": [
    "!chmod 600 ${MACHINE}-key"
   ]
  },
  {
   "cell_type": "code",
   "execution_count": null,
   "metadata": {},
   "outputs": [],
   "source": [
    "!cat ~/agave/${MACHINE}-key.pub | sshpass -f ~/hpc_pw.txt ssh ${MACHINE_USERNAME}@${MACHINE_FULL} sh -c \"cat - >> ~/.ssh/authorized_keys\""
   ]
  },
  {
   "cell_type": "code",
   "execution_count": 20,
   "metadata": {},
   "outputs": [
    {
     "name": "stdout",
     "output_type": "stream",
     "text": [
      "Key is installed\r\n"
     ]
    }
   ],
   "source": [
    "!ssh -o \"StrictHostKeyChecking=no\" -o \"IdentitiesOnly=yes\" -o \"BatchMode=yes\" \\\n",
    "    -o \"IdentityFile=${MACHINE}-key\" ${MACHINE_USERNAME}@${MACHINE_FULL} -p ${PORT} \\\n",
    "  echo Key is installed"
   ]
  },
  {
   "cell_type": "code",
   "execution_count": 21,
   "metadata": {
    "collapsed": true
   },
   "outputs": [],
   "source": [
    "!jsonpki --public ${MACHINE}-key.pub > ${MACHINE}-key.pub.txt\n",
    "!jsonpki --private ${MACHINE}-key > ${MACHINE}-key.txt"
   ]
  },
  {
   "cell_type": "code",
   "execution_count": 22,
   "metadata": {},
   "outputs": [
    {
     "name": "stdout",
     "output_type": "stream",
     "text": [
      "\u001b[1;0mToken for agave.prod:stevenrbrandt successfully refreshed and cached for 14400 seconds\r\n",
      "c755d8f2aef8e9e8667366546acca3\u001b[0m\r\n"
     ]
    }
   ],
   "source": [
    "!auth-tokens-refresh"
   ]
  },
  {
   "cell_type": "code",
   "execution_count": 23,
   "metadata": {},
   "outputs": [
    {
     "name": "stdout",
     "output_type": "stream",
     "text": [
      "Reading file `shelob-key.pub.txt'\n",
      "Reading file `shelob-key.txt'\n"
     ]
    }
   ],
   "source": [
    "os.environ[\"PUB_KEY\"]=readfile(\"${MACHINE}-key.pub.txt\").strip()\n",
    "os.environ[\"PRIV_KEY\"]=readfile(\"${MACHINE}-key.txt\").strip()"
   ]
  },
  {
   "cell_type": "code",
   "execution_count": 24,
   "metadata": {},
   "outputs": [
    {
     "name": "stdout",
     "output_type": "stream",
     "text": [
      "STORAGE_MACHINE=shelob-storage-stevenrbrandt\n"
     ]
    }
   ],
   "source": [
    "setvar(\"STORAGE_MACHINE=${MACHINE}-storage-${AGAVE_USERNAME}\")"
   ]
  },
  {
   "cell_type": "code",
   "execution_count": 25,
   "metadata": {},
   "outputs": [
    {
     "name": "stdout",
     "output_type": "stream",
     "text": [
      "Writing file `shelob-storage-stevenrbrandt.txt'\n"
     ]
    }
   ],
   "source": [
    "writefile(\"${STORAGE_MACHINE}.txt\",\"\"\"{\n",
    "    \"id\": \"${STORAGE_MACHINE}\",\n",
    "    \"name\": \"${MACHINE} storage (${MACHINE_USERNAME})\",\n",
    "    \"description\": \"The ${MACHINE} computer\",\n",
    "    \"site\": \"${DOMAIN}\",\n",
    "    \"type\": \"STORAGE\",\n",
    "    \"storage\": {\n",
    "        \"host\": \"${MACHINE_FULL}\",\n",
    "        \"port\": ${PORT},\n",
    "        \"protocol\": \"SFTP\",\n",
    "        \"rootDir\": \"/\",\n",
    "        \"homeDir\": \"${HOME_DIR}\",\n",
    "        \"auth\": {\n",
    "          \"username\" : \"${MACHINE_USERNAME}\",\n",
    "          \"publicKey\" : \"${PUB_KEY}\",\n",
    "          \"privateKey\" : \"${PRIV_KEY}\",\n",
    "          \"type\" : \"SSHKEYS\"\n",
    "        }\n",
    "    }\n",
    "}\n",
    "\"\"\")"
   ]
  },
  {
   "cell_type": "code",
   "execution_count": 26,
   "metadata": {},
   "outputs": [
    {
     "name": "stdout",
     "output_type": "stream",
     "text": [
      "\u001b[1;0m\u001b[1;0mSuccessfully added system shelob-storage-stevenrbrandt\u001b[0m\u001b[0m\r\n"
     ]
    }
   ],
   "source": [
    "!systems-addupdate -F ${STORAGE_MACHINE}.txt"
   ]
  },
  {
   "cell_type": "code",
   "execution_count": 27,
   "metadata": {},
   "outputs": [
    {
     "name": "stdout",
     "output_type": "stream",
     "text": [
      ".\r\n",
      ".bash_history\r\n",
      ".bash_history3\r\n",
      ".bash_logout\r\n",
      ".bash_profile\r\n"
     ]
    }
   ],
   "source": [
    "!files-list -S ${STORAGE_MACHINE} ./ | head -5"
   ]
  },
  {
   "cell_type": "code",
   "execution_count": 28,
   "metadata": {},
   "outputs": [
    {
     "name": "stdout",
     "output_type": "stream",
     "text": [
      "\r\n",
      "server: mike3\r\n",
      "\r\n",
      "Queue            Memory CPU Time Walltime Node  Run Que Lm  State\r\n",
      "---------------- ------ -------- -------- ----  --- --- --  -----\r\n",
      "workq              --      --    72:00:00   128  43   6 --   E R\r\n",
      "mwfa               --      --    72:00:00     8   0   0 --   E R\r\n",
      "bigmem             --      --    168:00:0     1   0   0 --   E R\r\n",
      "westmere           --      --    168:00:0     1   0   0 --   E R\r\n",
      "lasigma            --      --    72:00:00    28   0   0 --   E R\r\n",
      "bigmemtb           --      --    48:00:00     1   0   1 --   E R\r\n",
      "priority           --      --    168:00:0   128   0   0 --   E R\r\n",
      "single             --      --    72:00:00     1  11  42 --   E R\r\n",
      "gpu                --      --    72:00:00    16   2   0 --   E R\r\n",
      "preempt            --      --    72:00:00   --    0   0 --   E R\r\n",
      "checkpt            --      --    72:00:00   128  50   8 --   E R\r\n",
      "admin              --      --    24:00:00   --    0   0 --   E R\r\n",
      "scalemp            --      --    24:00:00     1   0   0 --   E R\r\n",
      "shelob             --      --    72:00:00    42   0   0 --   E R\r\n",
      "                                               ----- -----\r\n",
      "                                                 106    57\r\n"
     ]
    }
   ],
   "source": [
    "# Assuming ${MACHINE} uses torque as a queuing system, this will get info about the queues\n",
    "# The command you need to use to list the queue information varies from system to system.\n",
    "# For Torque, the command is \"qstat -q.\"\n",
    "!ssh -o \"IdentityFile=${MACHINE}-key\" ${MACHINE_USERNAME}@${MACHINE_FULL} -p ${PORT} qstat -q "
   ]
  },
  {
   "cell_type": "code",
   "execution_count": 29,
   "metadata": {},
   "outputs": [
    {
     "name": "stdout",
     "output_type": "stream",
     "text": [
      "MAX_TIME=72:00:00\n",
      "CPUINFO=Architecture:          x86_64\n",
      "CPU op-mode(s):        32-bit, 64-bit\n",
      "Byte Order:            Little Endian\n",
      "CPU(s):                16\n",
      "On-line CPU(s) list:   0-15\n",
      "Thread(s) per core:    1\n",
      "Core(s) per socket:    8\n",
      "Socket(s):             2\n",
      "NUMA node(s):          2\n",
      "Vendor ID:             GenuineIntel\n",
      "CPU family:            6\n",
      "Model:                 45\n",
      "Model name:            Intel(R) Xeon(R) CPU E5-2670 0 @ 2.60GHz\n",
      "Stepping:              7\n",
      "CPU MHz:               1200.000\n",
      "BogoMIPS:              5199.24\n",
      "Virtualization:        VT-x\n",
      "L1d cache:             32K\n",
      "L1i cache:             32K\n",
      "L2 cache:              256K\n",
      "L3 cache:              20480K\n",
      "NUMA node0 CPU(s):     0-7\n",
      "NUMA node1 CPU(s):     8-15\n",
      "QUEUE=shelob\n",
      "NODES=42\n",
      "PROCS=16\n"
     ]
    }
   ],
   "source": [
    "setvar(\"\"\"\n",
    "# Gather info about the machine\n",
    "# Executing this cell is essential\n",
    "MAX_TIME=72:00:00 # Max duration of a job\n",
    "# We figure out the number of processes automatically.\n",
    "# This assumes the head node and compute nodes have\n",
    "# the same number of procs.\n",
    "CPUINFO=$(ssh -o \"IdentityFile=${MACHINE}-key\" ${MACHINE_USERNAME}@${MACHINE_FULL} -p ${PORT} lscpu)\n",
    "QUEUE=shelob # Name of default queue\n",
    "NODES=42 # Number of nodes in queue\n",
    "\"\"\")\n",
    "g = re.search(r'(?m)CPU\\(s\\):\\s*(\\d+)',os.environ[\"CPUINFO\"])\n",
    "os.environ[\"PROCS\"]=g.group(1)\n",
    "print(repvar(\"PROCS=$PROCS\"))"
   ]
  },
  {
   "cell_type": "code",
   "execution_count": 30,
   "metadata": {},
   "outputs": [
    {
     "name": "stdout",
     "output_type": "stream",
     "text": [
      "EXEC_MACHINE=shelob-exec-stevenrbrandt\n"
     ]
    }
   ],
   "source": [
    "setvar(\"EXEC_MACHINE=${MACHINE}-exec-${AGAVE_USERNAME}\")"
   ]
  },
  {
   "cell_type": "code",
   "execution_count": 31,
   "metadata": {
    "collapsed": true
   },
   "outputs": [],
   "source": [
    "os.environ[\"DIRECTIVES\"]=re.sub(\"\\n\\\\s*\",r\"\\\\n\",\"\"\"\n",
    "#PBS -A ${ALLOCATION}\n",
    "#PBS -l cput=\\${AGAVE_JOB_MAX_RUNTIME}\n",
    "#PBS -l walltime=\\${AGAVE_JOB_MAX_RUNTIME}\n",
    "#PBS -q \\${AGAVE_JOB_BATCH_QUEUE}\n",
    "#PBS -l nodes=\\${AGAVE_JOB_NODE_COUNT}:ppn=16\n",
    "\"\"\".strip())"
   ]
  },
  {
   "cell_type": "code",
   "execution_count": 32,
   "metadata": {},
   "outputs": [
    {
     "data": {
      "text/plain": [
       "'#PBS -A ${ALLOCATION}\\\\n#PBS -l cput=\\\\${AGAVE_JOB_MAX_RUNTIME}\\\\n#PBS -l walltime=\\\\${AGAVE_JOB_MAX_RUNTIME}\\\\n#PBS -q \\\\${AGAVE_JOB_BATCH_QUEUE}\\\\n#PBS -l nodes=\\\\${AGAVE_JOB_NODE_COUNT}:ppn=16'"
      ]
     },
     "execution_count": 32,
     "metadata": {},
     "output_type": "execute_result"
    }
   ],
   "source": [
    "os.environ[\"DIRECTIVES\"]"
   ]
  },
  {
   "cell_type": "code",
   "execution_count": 33,
   "metadata": {},
   "outputs": [
    {
     "name": "stdout",
     "output_type": "stream",
     "text": [
      "Writing file `shelob-exec-stevenrbrandt.txt'\n"
     ]
    }
   ],
   "source": [
    "# Edit any parts of this file that you know need to be changed for your machine.\n",
    "writefile(\"${EXEC_MACHINE}.txt\",\"\"\"\n",
    "{\n",
    "    \"id\": \"${EXEC_MACHINE}\",\n",
    "    \"name\": \"${MACHINE} (${MACHINE_USERNAME})\",\n",
    "    \"description\": \"The ${MACHINE} computer\",\n",
    "    \"site\": \"${DOMAIN}\",\n",
    "    \"public\": false,\n",
    "    \"status\": \"UP\",\n",
    "    \"type\": \"EXECUTION\",\n",
    "    \"executionType\": \"HPC\",\n",
    "    \"scheduler\" : \"CUSTOM_TORQUE\",\n",
    "    \"environment\": null,\n",
    "    \"scratchDir\" : \"${SCRATCH_DIR}\",\n",
    "    \"queues\": [\n",
    "        {\n",
    "            \"customDirectives\" : \"${DIRECTIVES}\",\n",
    "            \"name\": \"${QUEUE}\",\n",
    "            \"default\": true,\n",
    "            \"maxJobs\": 10,\n",
    "            \"maxUserJobs\": 10,\n",
    "            \"maxNodes\": ${NODES},\n",
    "            \"maxProcessorsPerNode\": ${PROCS},\n",
    "            \"minProcessorsPerNode\": 1,\n",
    "            \"maxRequestedTime\": \"${MAX_TIME}\"\n",
    "        }\n",
    "    ],\n",
    "    \"login\": {\n",
    "        \"auth\": {\n",
    "          \"username\" : \"${MACHINE_USERNAME}\",\n",
    "          \"publicKey\" : \"${PUB_KEY}\",\n",
    "          \"privateKey\" : \"${PRIV_KEY}\",\n",
    "          \"type\" : \"SSHKEYS\"\n",
    "        },\n",
    "        \"host\": \"${MACHINE_FULL}\",\n",
    "        \"port\": ${PORT},\n",
    "        \"protocol\": \"SSH\"\n",
    "    },\n",
    "    \"maxSystemJobs\": 50,\n",
    "    \"maxSystemJobsPerUser\": 50,\n",
    "    \"storage\": {\n",
    "        \"host\": \"${MACHINE_FULL}\",\n",
    "        \"port\": ${PORT},\n",
    "        \"protocol\": \"SFTP\",\n",
    "        \"rootDir\": \"/\",\n",
    "        \"homeDir\": \"${HOME_DIR}\",\n",
    "        \"auth\": {\n",
    "          \"username\" : \"${MACHINE_USERNAME}\",\n",
    "          \"publicKey\" : \"${PUB_KEY}\",\n",
    "          \"privateKey\" : \"${PRIV_KEY}\",\n",
    "          \"type\" : \"SSHKEYS\"\n",
    "        }\n",
    "    },\n",
    "    \"workDir\": \"${WORK_DIR}\"\n",
    "}\"\"\")"
   ]
  },
  {
   "cell_type": "code",
   "execution_count": 34,
   "metadata": {},
   "outputs": [
    {
     "name": "stdout",
     "output_type": "stream",
     "text": [
      "\u001b[1;0m\u001b[1;0mSuccessfully added system shelob-exec-stevenrbrandt\u001b[0m\u001b[0m\r\n"
     ]
    }
   ],
   "source": [
    "!systems-addupdate -F ${EXEC_MACHINE}.txt"
   ]
  },
  {
   "cell_type": "code",
   "execution_count": 35,
   "metadata": {},
   "outputs": [
    {
     "name": "stdout",
     "output_type": "stream",
     "text": [
      ".\r\n",
      ".bash_history\r\n",
      ".bash_history3\r\n",
      ".bash_logout\r\n",
      ".bash_profile\r\n"
     ]
    }
   ],
   "source": [
    "# Test to see if this worked...\n",
    "!files-list -S ${EXEC_MACHINE} ./ | head -5"
   ]
  },
  {
   "cell_type": "code",
   "execution_count": 36,
   "metadata": {},
   "outputs": [
    {
     "name": "stdout",
     "output_type": "stream",
     "text": [
      "Writing file `drawgau-wrapper.txt'\n"
     ]
    }
   ],
   "source": [
    "writefile(\"drawgau-wrapper.txt\",\"\"\"\n",
    "#!/bin/bash\n",
    "echo 'Executing Draw Gau Code'\n",
    "# Setting the x flag will echo every\n",
    "# command onto stderr. This is\n",
    "# for debugging, so we can see what's\n",
    "# going on.\n",
    "set -x\n",
    "echo ==ENV=============\n",
    "# The env command prints out the\n",
    "# entire execution environment. This\n",
    "# is also present for debugging purposes.\n",
    "env\n",
    "echo ==PWD=============\n",
    "# We also print out the execution\n",
    "# directory. Again, for debugging purposes.\n",
    "pwd\n",
    "echo ==JOB=============\n",
    "EXE_DIR=/home/${MACHINE_USERNAME}/drawgau\n",
    "# \\${parfile} will be substituted by Agave\n",
    "# I like having my environment variables in\n",
    "# upper case, that's the only reason for this\n",
    "# assignment.\n",
    "FAIL=no\n",
    "if [ \"\\${parfile}\" = \"\" ]\n",
    "then\n",
    "  echo \"The parfile was not set\"\n",
    "  # Note: Job failure must be explicitly reported to\n",
    "  # the Agave framework, otherwise it might\n",
    "  # mistakenly believe the job is still running.\n",
    "  $(${AGAVE_JOB_CALLBACK_FAILURE})\n",
    "  exit 1\n",
    "fi\n",
    "if [ \"\\${PBS_NODEFILE}\" = \"\" ]\n",
    "then\n",
    "  # When running on a system managed by Torque\n",
    "  # this variable should be set. If it's not,\n",
    "  # that's a problem.\n",
    "  echo \"The PBS_NODEFILE was not set\"\n",
    "  $(${AGAVE_JOB_CALLBACK_FAILURE})\n",
    "  exit 2\n",
    "fi\n",
    "\n",
    "# By default, the PBS_NODEFILE lists nodes multiple\n",
    "# times, once for each MPI process that should run\n",
    "# there. We only want one MPI process per node, so\n",
    "# we create a new file with \"sort -u\".\n",
    "LOCAL_NODEFILE=nodefile.txt\n",
    "sort -u < \\${PBS_NODEFILE} > \\${LOCAL_NODEFILE}\n",
    "PROCS=\\$(wc -l < \\${LOCAL_NODEFILE})\n",
    "\n",
    "if [ \"\\${PROCS}\" = \"\" ]\n",
    "then\n",
    "  echo \"PROCS was not set\"\n",
    "  \\$(\\${AGAVE_JOB_CALLBACK_FAILURE})\n",
    "  exit 3\n",
    "fi\n",
    "\n",
    "# Execute our MPI command.\n",
    "mpirun -np \\${PROCS} -machinefile \\${LOCAL_NODEFILE} \\${EXE_DIR}/drawgau \\${parfile}\n",
    "\"\"\")"
   ]
  },
  {
   "cell_type": "code",
   "execution_count": 37,
   "metadata": {},
   "outputs": [
    {
     "name": "stdout",
     "output_type": "stream",
     "text": [
      "\u001b[1;0mSuccessfully created folder agave-deployment\u001b[0m\n",
      "Uploading drawgau-wrapper.txt...\n",
      "######################################################################## 100.0%\n"
     ]
    }
   ],
   "source": [
    "!files-mkdir -S ${STORAGE_MACHINE} -N ${DEPLOYMENT_PATH}\n",
    "!files-upload -F drawgau-wrapper.txt -S ${STORAGE_MACHINE} ${DEPLOYMENT_PATH}/"
   ]
  },
  {
   "cell_type": "code",
   "execution_count": 38,
   "metadata": {},
   "outputs": [
    {
     "name": "stdout",
     "output_type": "stream",
     "text": [
      "Writing file `test.txt'\n"
     ]
    }
   ],
   "source": [
    "writefile(\"test.txt\",\"\"\"\n",
    "parfile=\"input.txt\"\n",
    "drawgau-wrapper.txt\n",
    "\"\"\")"
   ]
  },
  {
   "cell_type": "code",
   "execution_count": 39,
   "metadata": {},
   "outputs": [
    {
     "name": "stdout",
     "output_type": "stream",
     "text": [
      "\u001b[1;0mSuccessfully created folder agave-deployment\u001b[0m\n",
      "Uploading test.txt...\n",
      "######################################################################## 100.0%\n"
     ]
    }
   ],
   "source": [
    "!files-mkdir -S ${STORAGE_MACHINE} -N ${DEPLOYMENT_PATH}\n",
    "!files-upload -F test.txt -S ${STORAGE_MACHINE} ${DEPLOYMENT_PATH}/"
   ]
  },
  {
   "cell_type": "code",
   "execution_count": 40,
   "metadata": {},
   "outputs": [
    {
     "name": "stdout",
     "output_type": "stream",
     "text": [
      "Writing file `drawgau-shelob-stevenrbrandt.txt'\n"
     ]
    }
   ],
   "source": [
    "writefile(\"${APP_NAME}.txt\",\"\"\"\n",
    "{  \n",
    "   \"name\":\"${APP_NAME}\",\n",
    "   \"version\":\"1.0\",\n",
    "   \"label\":\"Draw Gaussian Curve\",\n",
    "   \"shortDescription\":\"Just draws a Gaussian\",\n",
    "   \"longDescription\":\"\",\n",
    "   \"deploymentSystem\":\"${STORAGE_MACHINE}\",\n",
    "   \"deploymentPath\":\"${DEPLOYMENT_PATH}\",\n",
    "   \"templatePath\":\"drawgau-wrapper.txt\",\n",
    "   \"testPath\":\"test.txt\",\n",
    "   \"executionSystem\":\"${EXEC_MACHINE}\",\n",
    "   \"executionType\":\"HPC\",\n",
    "   \"parallelism\":\"SERIAL\",\n",
    "   \"allocation\":\"${ALLOCATION}\",\n",
    "   \"modules\":[],\n",
    "   \"inputs\":[\n",
    "         {   \n",
    "         \"id\":\"parfile\",\n",
    "         \"details\":{  \n",
    "            \"label\":\"Draw Gau Parameter File: \",\n",
    "            \"description\":\"\",\n",
    "            \"argument\":null,\n",
    "            \"showArgument\":false\n",
    "         },\n",
    "         \"value\":{  \n",
    "            \"default\":\"testInput.txt\",\n",
    "            \"order\":0,\n",
    "            \"required\":true,\n",
    "            \"validator\":\"\",\n",
    "            \"visible\":true\n",
    "         }\n",
    "      }   \n",
    "\n",
    "   ],\n",
    "   \"parameters\":[],\n",
    "   \"outputs\":[  \n",
    "      {  \n",
    "         \"id\":\"Output\",\n",
    "         \"details\":{  \n",
    "            \"description\":\"The output\",\n",
    "            \"label\":\"x y file\"\n",
    "         },\n",
    "         \"value\":{  \n",
    "            \"default\":\"drawgau.txt\",\n",
    "            \"validator\":\"\"\n",
    "         }\n",
    "      }\n",
    "   ]\n",
    "}\n",
    "\"\"\")"
   ]
  },
  {
   "cell_type": "code",
   "execution_count": 41,
   "metadata": {},
   "outputs": [
    {
     "name": "stdout",
     "output_type": "stream",
     "text": [
      "\u001b[1;0m\u001b[1;0mSuccessfully added app drawgau-shelob-stevenrbrandt-1.0\u001b[0m\u001b[0m\r\n"
     ]
    }
   ],
   "source": [
    "!apps-addupdate -F ${APP_NAME}.txt"
   ]
  },
  {
   "cell_type": "code",
   "execution_count": 42,
   "metadata": {},
   "outputs": [
    {
     "name": "stdout",
     "output_type": "stream",
     "text": [
      "Writing file `drawgau.cpp'\n"
     ]
    }
   ],
   "source": [
    "writefile(\"drawgau.cpp\",\"\"\"\n",
    "#include <mpi.h>\n",
    "#include <iostream>\n",
    "#include <fstream>\n",
    "#include <sstream>\n",
    "#include <math.h>\n",
    "#include <stdlib.h>\n",
    "\n",
    "using namespace std;\n",
    "\n",
    "void usage() {\n",
    "  std::cerr << \"usage: drawgau input.txt\" << std::endl;\n",
    "  exit(1);\n",
    "}\n",
    "\n",
    "int main(int argc, char **argv) {\n",
    "  if(argc != 2)\n",
    "    usage();\n",
    "  ifstream i(argv[1]);\n",
    "\n",
    "  if(!i.good())\n",
    "    usage();\n",
    "\n",
    "  MPI_Init(&argc,&argv);\n",
    "  int rank,size;\n",
    "  MPI_Comm_rank(MPI_COMM_WORLD,&rank);\n",
    "  MPI_Comm_size(MPI_COMM_WORLD,&size);\n",
    "\n",
    "  double minx, maxx, delx;\n",
    "  i >> minx >> maxx >> delx;\n",
    "  if(rank == 0) {\n",
    "    cout << \"minx=\" << minx << endl;\n",
    "    cout << \"maxx=\" << maxx << endl;\n",
    "    cout << \"delx=\" << delx << endl;\n",
    "    cout << \"mpi size=\" << size << endl;\n",
    "  }\n",
    "\n",
    "  stringstream s;\n",
    "  s << \"drawgau\" << rank << \".txt\";\n",
    "  string fname = s.str();\n",
    "  cout << \"FILE: \" << fname << endl;\n",
    "  ofstream f(fname,ofstream::out);\n",
    "  double delxp = (maxx - minx)/size;\n",
    "  double minxp = minx+delxp*rank;\n",
    "  double maxxp = minxp + delxp;\n",
    "  cout << \"rank=\" << rank << \" minxp=\" << minxp << \" maxxp=\" << maxxp << endl;\n",
    "  for(double x = minxp; x < maxxp; x += delx) {\n",
    "    f << x << \" \" << exp(-x*x) << endl;\n",
    "  }\n",
    "  f.close();\n",
    "  MPI_Finalize();\n",
    "  return 0;\n",
    "}\n",
    "\"\"\")"
   ]
  },
  {
   "cell_type": "code",
   "execution_count": 43,
   "metadata": {},
   "outputs": [
    {
     "name": "stdout",
     "output_type": "stream",
     "text": [
      "Writing file `build.sh'\n"
     ]
    }
   ],
   "source": [
    "writefile(\"build.sh\",\"\"\"\n",
    "#!/bin/bash\n",
    "set -x\n",
    "cd ~/drawgau\n",
    "mpicxx -std=c++11 -o drawgau drawgau.cpp\n",
    "\"\"\")"
   ]
  },
  {
   "cell_type": "code",
   "execution_count": 44,
   "metadata": {},
   "outputs": [
    {
     "name": "stdout",
     "output_type": "stream",
     "text": [
      "Writing file `input.txt'\n"
     ]
    }
   ],
   "source": [
    "writefile(\"input.txt\",\"-1 1 .01\")"
   ]
  },
  {
   "cell_type": "code",
   "execution_count": 45,
   "metadata": {},
   "outputs": [
    {
     "name": "stdout",
     "output_type": "stream",
     "text": [
      "\u001b[1;0mSuccessfully created folder drawgau\u001b[0m\n",
      "Uploading drawgau.cpp...\n",
      "######################################################################## 100.0%\n",
      "Uploading build.sh...\n",
      "######################################################################## 100.0%\n",
      "Uploading input.txt...\n",
      "######################################################################## 100.0%\n",
      "+ cd /home/sbrandt/drawgau\n",
      "+ mpicxx -std=c++11 -o drawgau drawgau.cpp\n"
     ]
    }
   ],
   "source": [
    "!files-mkdir -S ${STORAGE_MACHINE} -N drawgau\n",
    "!files-upload -F drawgau.cpp -S ${STORAGE_MACHINE} drawgau/\n",
    "!files-upload -F build.sh -S ${STORAGE_MACHINE} drawgau/\n",
    "!files-upload -F input.txt -S ${STORAGE_MACHINE} drawgau/\n",
    "!ssh -o \"IdentityFile=${MACHINE}-key\" ${MACHINE_USERNAME}@${MACHINE_FULL} -p ${PORT} bash --login ./drawgau/build.sh"
   ]
  },
  {
   "cell_type": "code",
   "execution_count": 46,
   "metadata": {},
   "outputs": [
    {
     "name": "stdout",
     "output_type": "stream",
     "text": [
      "Writing file `job.txt'\n"
     ]
    }
   ],
   "source": [
    "writefile(\"job.txt\",\"\"\"\n",
    "{\n",
    "  \"name\":\"test-jobc-1\",\n",
    "  \"appId\": \"${APP_NAME}-1.0\",\n",
    "  \"executionSystem\": \"${EXEC_MACHINE}\",\n",
    "  \"batchQueue\": \"${QUEUE}\",\n",
    "  \"maxRunTime\": \"${MAX_TIME}\",\n",
    "  \"nodeCount\": 2,\n",
    "  \"processorsPerNode\": 2,\n",
    "  \"archive\": false,\n",
    "  \"archiveSystem\": \"${STORAGE_MACHINE}\",\n",
    "  \"inputs\": {\n",
    "    \"parfile\": \"agave://${STORAGE_MACHINE}/${HOME_DIR}/drawgau/input.txt\"\n",
    "  },\n",
    "  \"parameters\": {\n",
    "  },\n",
    "  \"notifications\": [\n",
    "    {\n",
    "      \"url\":\"${EMAIL}\",\n",
    "      \"event\":\"FINISHED\",\n",
    "      \"persistent\":false\n",
    "    },\n",
    "    {\n",
    "      \"url\":\"${EMAIL}\",\n",
    "      \"event\":\"FAILED\",\n",
    "      \"persistent\":false\n",
    "    },\n",
    "    {\n",
    "      \"url\":\"https://www.cct.lsu.edu/~sbrandt/pushbullet.php?key=${PBTOK}&status=\\${JOB_STATUS}:\\${JOB_ID}\",\n",
    "      \"event\":\"FINISHED\",\n",
    "      \"persistent\":\"false\"\n",
    "    },\n",
    "    {\n",
    "      \"url\":\"https://www.cct.lsu.edu/~sbrandt/pushbullet.php?key=${PBTOK}&status=\\${JOB_STATUS}:\\${JOB_ID}\",\n",
    "      \"event\":\"FAILED\",\n",
    "      \"persistent\":\"false\"\n",
    "    }\n",
    "  ]\n",
    "}\n",
    "\"\"\")"
   ]
  },
  {
   "cell_type": "code",
   "execution_count": 47,
   "metadata": {},
   "outputs": [
    {
     "name": "stdout",
     "output_type": "stream",
     "text": [
      "OUTPUT=Successfully submitted job 251542905577345511-242ac11b-0001-007\n",
      "JOB_ID=251542905577345511-242ac11b-0001-007\n"
     ]
    }
   ],
   "source": [
    "setvar(\"\"\"\n",
    "# Capture the output of the job submit command\n",
    "OUTPUT=$(jobs-submit -F job.txt)\n",
    "# Parse out the job id from the output\n",
    "JOB_ID=$(echo $OUTPUT | cut -d' ' -f4)\n",
    "\"\"\")"
   ]
  },
  {
   "cell_type": "code",
   "execution_count": 50,
   "metadata": {},
   "outputs": [
    {
     "name": "stdout",
     "output_type": "stream",
     "text": [
      "STAT=FINISHED\n"
     ]
    }
   ],
   "source": [
    "from time import sleep\n",
    "for iter in range(10):\n",
    "    setvar(\"STAT=$(jobs-status $JOB_ID)\")\n",
    "    stat = os.environ[\"STAT\"]\n",
    "    sleep(3.0)\n",
    "    if stat == \"FINISHED\" or stat == \"FAILED\":\n",
    "        break"
   ]
  },
  {
   "cell_type": "code",
   "execution_count": 51,
   "metadata": {},
   "outputs": [
    {
     "name": "stdout",
     "output_type": "stream",
     "text": [
      "jobs-history 251542905577345511-242ac11b-0001-007\n",
      "\u001b[1;0mJob accepted and queued for submission.\n",
      "Attempt 1 to stage job inputs\n",
      "Identifying input files for staging\n",
      "Copy in progress\n",
      "Job inputs staged to execution system\n",
      "Preparing job for submission.\n",
      "Attempt 1 to submit job\n",
      "Fetching app assets from agave://shelob-storage-stevenrbrandt/agave-deployment\n",
      "Preparing job for submission.\n",
      "Attempt 1 to submit job\n",
      "Staging runtime assets to agave://shelob-exec-stevenrbrandt//work/sbrandt/stevenrbrandt/job-251542905577345511-242ac11b-0001-007-test-jobc-1\n",
      "Fetching app assets from agave://shelob-storage-stevenrbrandt/agave-deployment\n",
      "Staging runtime assets to agave://shelob-exec-stevenrbrandt//work/sbrandt/stevenrbrandt/job-251542905577345511-242ac11b-0001-007-test-jobc-1\n",
      "Attempt 1 failed to submit job due to scheduler exception. chmod: cannot access `test-jobc-1.ipcexe': No such file or directory\n",
      "qsub: script file 'test-jobc-1.ipcexe' cannot be loaded - No such file or directory\n",
      "Attempt 2 to submit job\n",
      "Fetching app assets from agave://shelob-storage-stevenrbrandt/agave-deployment\n",
      "Staging runtime assets to agave://shelob-exec-stevenrbrandt//work/sbrandt/stevenrbrandt/job-251542905577345511-242ac11b-0001-007-test-jobc-1\n",
      "HPC job successfully placed into shelob queue as local job 746108.mike3\n",
      "Job completed execution\n",
      "Job completed. Skipping archiving at user request.\u001b[0m\n"
     ]
    }
   ],
   "source": [
    "!echo jobs-history ${JOB_ID}\n",
    "!jobs-history ${JOB_ID}"
   ]
  },
  {
   "cell_type": "code",
   "execution_count": 52,
   "metadata": {},
   "outputs": [
    {
     "name": "stdout",
     "output_type": "stream",
     "text": [
      "\u001b[1;0m251542905577345511-242ac11b-0001-007 FINISHED\r\n",
      "2638104155762397671-242ac11b-0001-007 FINISHED\r\n",
      "6583964896351883751-242ac11b-0001-007 SUBMITTING\r\n",
      "5651466129817473511-242ac11b-0001-007 FINISHED\r\n",
      "1850923575366315545-242ac11b-0001-007 FINISHED\u001b[0m\r\n"
     ]
    }
   ],
   "source": [
    "!jobs-list -l 5"
   ]
  },
  {
   "cell_type": "code",
   "execution_count": 53,
   "metadata": {},
   "outputs": [
    {
     "name": "stdout",
     "output_type": "stream",
     "text": [
      "######################################################################## 100.0%\n",
      "#!/bin/bash\n",
      "#PBS -N test-jobc-1\n",
      "#PBS -o test-jobc-1-251542905577345511-242ac11b-0001-007.out\n",
      "#PBS -e test-jobc-1-251542905577345511-242ac11b-0001-007.err\n",
      "#PBS -A hpc_hyrel17\n",
      "#PBS -l cput=72:00:00\n",
      "#PBS -l walltime=72:00:00\n",
      "#PBS -q shelob\n",
      "#PBS -l nodes=2:ppn=16\n",
      "\n",
      "##########################################################\n",
      "# Agave Environment Settings \n",
      "##########################################################\n",
      "\n",
      "# Ensure we're in the job work directory \n",
      "cd /work/sbrandt/stevenrbrandt/job-251542905577345511-242ac11b-0001-007-test-jobc-1\n",
      "\n",
      "# Location of agave job lifecycle log file \n",
      "AGAVE_LOG_FILE=/work/sbrandt/stevenrbrandt/job-251542905577345511-242ac11b-0001-007-test-jobc-1/.agave.log\n",
      "\n",
      "\n",
      "##########################################################\n",
      "# Agave Utility functions \n",
      "##########################################################\n",
      "\n",
      "# cross-plaltform function to print an ISO8601 formatted timestamp \n",
      "function agave_datetime_iso() { \n",
      "  date '+%Y-%m-%dT%H:%M:%S%z'; \n",
      "} \n",
      "\n",
      "# standard logging function to write agave job lifecycle logs\n",
      "function agave_log_response() { \n",
      "  echo \"[$(agave_datetime_iso)] ${@}\"; \n",
      "} 2>&1 >> \"${AGAVE_LOG_FILE}\"\n",
      "\n",
      "# Callback to signal the job has started executing user-defined logic\n",
      "agave_log_response $(curl -sSk \"https://public.agaveapi.co/jobs/v2/trigger/job/251542905577345511-242ac11b-0001-007/token/7c6a8f0b-d384-4ede-9ee1-5c905070477e/status/RUNNING?filter=id,status\" 2>&1) \n",
      "\n",
      "\n",
      "##########################################################\n",
      "# Agave App and System Environment Settings \n",
      "##########################################################\n",
      "\n",
      "# No modules commands configured for this app\n",
      "\n",
      "# No custom environment variables configured for this app\n",
      "\n",
      "\n",
      "##########################################################\n",
      "# Begin App Wrapper Template Logic \n",
      "##########################################################\n",
      "\n",
      "#!/bin/bash\n",
      "echo 'Executing Draw Gau Code'\n",
      "# Setting the x flag will echo every\n",
      "# command onto stderr. This is\n",
      "# for debugging, so we can see what's\n",
      "# going on.\n",
      "set -x\n",
      "echo ==ENV=============\n",
      "# The env command prints out the\n",
      "# entire execution environment. This\n",
      "# is also present for debugging purposes.\n",
      "env\n",
      "echo ==PWD=============\n",
      "# We also print out the execution\n",
      "# directory. Again, for debugging purposes.\n",
      "pwd\n",
      "echo ==JOB=============\n",
      "EXE_DIR=/home/sbrandt/drawgau\n",
      "# input.txt will be substituted by Agave\n",
      "# I like having my environment variables in\n",
      "# upper case, that's the only reason for this\n",
      "# assignment.\n",
      "FAIL=no\n",
      "if [ \"input.txt\" = \"\" ]\n",
      "then\n",
      "  echo \"The parfile was not set\"\n",
      "  # Note: Job failure must be explicitly reported to\n",
      "  # the Agave framework, otherwise it might\n",
      "  # mistakenly believe the job is still running.\n",
      "  \n",
      "  exit 1\n",
      "fi\n",
      "if [ \"${PBS_NODEFILE}\" = \"\" ]\n",
      "then\n",
      "  # When running on a system managed by Torque\n",
      "  # this variable should be set. If it's not,\n",
      "  # that's a problem.\n",
      "  echo \"The PBS_NODEFILE was not set\"\n",
      "  \n",
      "  exit 2\n",
      "fi\n",
      "\n",
      "# By default, the PBS_NODEFILE lists nodes multiple\n",
      "# times, once for each MPI process that should run\n",
      "# there. We only want one MPI process per node, so\n",
      "# we create a new file with \"sort -u\".\n",
      "LOCAL_NODEFILE=nodefile.txt\n",
      "sort -u < ${PBS_NODEFILE} > ${LOCAL_NODEFILE}\n",
      "PROCS=$(wc -l < ${LOCAL_NODEFILE})\n",
      "\n",
      "if [ \"${PROCS}\" = \"\" ]\n",
      "then\n",
      "  echo \"PROCS was not set\"\n",
      "  $(agave_log_response $(curl -sSk \"https://public.agaveapi.co/jobs/v2/trigger/job/251542905577345511-242ac11b-0001-007/token/7c6a8f0b-d384-4ede-9ee1-5c905070477e/status/FAILED?filter=id,status\" 2>&1) \n",
      "\n",
      "\n",
      ")\n",
      "  exit 3\n",
      "fi\n",
      "\n",
      "# Execute our MPI command.\n",
      "mpirun -np ${PROCS} -machinefile ${LOCAL_NODEFILE} ${EXE_DIR}/drawgau input.txt\n",
      "\n",
      "\n",
      "##########################################################\n",
      "# End App Wrapper Template Logic \n",
      "##########################################################\n",
      "\n",
      "# Callback to signal the job has completed all user-defined logic\n",
      "agave_log_response $(curl -sSk \"https://public.agaveapi.co/jobs/v2/trigger/job/251542905577345511-242ac11b-0001-007/token/7c6a8f0b-d384-4ede-9ee1-5c905070477e/status/CLEANING_UP?filter=id,status\" 2>&1) \n",
      "\n",
      "\n"
     ]
    }
   ],
   "source": [
    "!jobs-output-get ${JOB_ID} test-jobc-1.ipcexe\n",
    "!cat test-jobc-1.ipcexe"
   ]
  },
  {
   "cell_type": "code",
   "execution_count": 54,
   "metadata": {},
   "outputs": [
    {
     "name": "stdout",
     "output_type": "stream",
     "text": [
      "######################################################################## 100.0%\n",
      "+ echo ==ENV=============\n",
      "+ env\n",
      "+ echo ==PWD=============\n",
      "+ pwd\n",
      "+ echo ==JOB=============\n",
      "+ EXE_DIR=/home/sbrandt/drawgau\n",
      "+ FAIL=no\n",
      "+ '[' input.txt = '' ']'\n",
      "+ '[' /var/spool/torque/aux//746108.mike3 = '' ']'\n",
      "+ LOCAL_NODEFILE=nodefile.txt\n",
      "+ sort -u\n",
      "++ wc -l\n",
      "+ PROCS=2\n",
      "+ '[' 2 = '' ']'\n",
      "+ mpirun -np 2 -machinefile nodefile.txt /home/sbrandt/drawgau/drawgau input.txt\n",
      "++ curl -sSk 'https://public.agaveapi.co/jobs/v2/trigger/job/251542905577345511-242ac11b-0001-007/token/7c6a8f0b-d384-4ede-9ee1-5c905070477e/status/CLEANING_UP?filter=id,status'\n",
      "+ agave_log_response '{\"status\":\"success\",\"message\":null,\"version\":\"2.2.6-r4f1bf09\",\"result\":{\"id\":\"251542905577345511-242ac11b-0001-007\",\"status\":\"FINISHED\"}}'\n"
     ]
    }
   ],
   "source": [
    "!jobs-output-get ${JOB_ID} test-jobc-1-${JOB_ID}.err\n",
    "!cat test-jobc-1-${JOB_ID}.err"
   ]
  },
  {
   "cell_type": "code",
   "execution_count": 55,
   "metadata": {},
   "outputs": [
    {
     "name": "stdout",
     "output_type": "stream",
     "text": [
      "######################################################################## 100.0%\n",
      "-1 0.367879\n",
      "-0.99 0.375274\n",
      "-0.98 0.38274\n",
      "-0.97 0.390276\n",
      "-0.96 0.397882\n",
      "-0.95 0.405555\n",
      "-0.94 0.413292\n",
      "-0.93 0.421094\n",
      "-0.92 0.428956\n",
      "-0.91 0.436879\n"
     ]
    }
   ],
   "source": [
    "!jobs-output-get ${JOB_ID} drawgau0.txt\n",
    "!cat drawgau0.txt | head -10"
   ]
  },
  {
   "cell_type": "code",
   "execution_count": 56,
   "metadata": {
    "collapsed": true
   },
   "outputs": [],
   "source": [
    "# This cell enables inline plotting in the notebook\n",
    "%matplotlib inline\n",
    "\n",
    "import matplotlib\n",
    "import numpy as np\n",
    "import matplotlib.pyplot as plt"
   ]
  },
  {
   "cell_type": "code",
   "execution_count": 57,
   "metadata": {},
   "outputs": [
    {
     "data": {
      "image/png": "[encoded data removed]",
      "text/plain": [
       "<matplotlib.figure.Figure at 0x7fc27c555d68>"
      ]
     },
     "metadata": {},
     "output_type": "display_data"
    }
   ],
   "source": [
    "# Load ascii data from a file\n",
    "data0 = np.genfromtxt(\"drawgau0.txt\")\n",
    "data1 = np.genfromtxt(\"drawgau1.txt\")\n",
    "# Plot!\n",
    "plt.figure()\n",
    "plt.plot(data0[:,0],data0[:,1])\n",
    "plt.plot(data1[:,0],data1[:,1])\n",
    "plt.show()"
   ]
  },
  {
   "cell_type": "code",
   "execution_count": 58,
   "metadata": {},
   "outputs": [
    {
     "name": "stdout",
     "output_type": "stream",
     "text": [
      "\u001b[1;0mstevenrbrandt READ WRITE \u001b[0m\r\n"
     ]
    }
   ],
   "source": [
    "!jobs-pems-list ${JOB_ID}"
   ]
  },
  {
   "cell_type": "code",
   "execution_count": 59,
   "metadata": {},
   "outputs": [
    {
     "name": "stdout",
     "output_type": "stream",
     "text": [
      "\u001b[1;0mSuccessfully updated permission for ktraxler\u001b[0m\r\n"
     ]
    }
   ],
   "source": [
    "# permissions: READ, WRITE, READ_WRITE, ALL, NONE\n",
    "!jobs-pems-update -u ktraxler -p READ ${JOB_ID}"
   ]
  },
  {
   "cell_type": "code",
   "execution_count": 60,
   "metadata": {},
   "outputs": [
    {
     "name": "stdout",
     "output_type": "stream",
     "text": [
      "\u001b[1;0mstevenrbrandt READ WRITE \r\n",
      "ktraxler READ \u001b[0m\r\n"
     ]
    }
   ],
   "source": [
    "!jobs-pems-list ${JOB_ID}"
   ]
  },
  {
   "cell_type": "code",
   "execution_count": 61,
   "metadata": {},
   "outputs": [
    {
     "name": "stdout",
     "output_type": "stream",
     "text": [
      "\u001b[1;0mstevenrbrandt READ WRITE EXECUTE \r\n",
      "ktraxler READ EXECUTE \r\n",
      "stevenrbrandt READ WRITE EXECUTE \u001b[0m\r\n"
     ]
    }
   ],
   "source": [
    "!apps-pems-list ${APP_NAME}-1.0"
   ]
  },
  {
   "cell_type": "code",
   "execution_count": 62,
   "metadata": {},
   "outputs": [
    {
     "name": "stdout",
     "output_type": "stream",
     "text": [
      "\u001b[1;0m\u001b[1;0mSuccessfully updated permission for ktraxler\u001b[0m\u001b[0m\r\n"
     ]
    }
   ],
   "source": [
    "# permissions: READ, WRITE, EXECUTE, READ_WRITE, READ_EXECUTE, WRITE_EXECUTE, ALL, and NONE\n",
    "!apps-pems-update -u ktraxler -p READ_EXECUTE ${APP_NAME}-1.0"
   ]
  },
  {
   "cell_type": "code",
   "execution_count": 63,
   "metadata": {},
   "outputs": [
    {
     "name": "stdout",
     "output_type": "stream",
     "text": [
      "\u001b[1;0mstevenrbrandt READ WRITE EXECUTE \r\n",
      "ktraxler READ EXECUTE \r\n",
      "stevenrbrandt READ WRITE EXECUTE \u001b[0m\r\n"
     ]
    }
   ],
   "source": [
    "!apps-pems-list ${APP_NAME}-1.0"
   ]
  },
  {
   "cell_type": "code",
   "execution_count": 64,
   "metadata": {},
   "outputs": [
    {
     "name": "stdout",
     "output_type": "stream",
     "text": [
      "Click the link to submit and run a job\n",
      "https://togo.agaveapi.co/app/#/apps/drawgau-shelob-stevenrbrandt-1.0/run\n"
     ]
    }
   ],
   "source": [
    "!echo Click the link to submit and run a job\n",
    "!echo https://togo.agaveapi.co/app/#/apps/${APP_NAME}-1.0/run"
   ]
  },
  {
   "cell_type": "code",
   "execution_count": null,
   "metadata": {
    "collapsed": true
   },
   "outputs": [],
   "source": []
  }
 ],
 "metadata": {
  "kernelspec": {
   "display_name": "Python 3",
   "language": "python",
   "name": "python3"
  },
  "language_info": {
   "codemirror_mode": {
    "name": "ipython",
    "version": 3
   },
   "file_extension": ".py",
   "mimetype": "text/x-python",
   "name": "python",
   "nbconvert_exporter": "python",
   "pygments_lexer": "ipython3",
   "version": "3.4.5"
  }
 },
 "nbformat": 4,
 "nbformat_minor": 2
}
